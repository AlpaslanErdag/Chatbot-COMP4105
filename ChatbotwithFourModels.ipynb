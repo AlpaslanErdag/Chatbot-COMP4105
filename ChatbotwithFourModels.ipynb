{
  "nbformat": 4,
  "nbformat_minor": 0,
  "metadata": {
    "colab": {
      "name": "ChatbotwithFourModels.ipynb",
      "provenance": [],
      "machine_shape": "hm",
      "authorship_tag": "ABX9TyM6cZn7sU6KZrPgbm5e4/Jb",
      "include_colab_link": true
    },
    "kernelspec": {
      "name": "python3",
      "display_name": "Python 3"
    },
    "language_info": {
      "name": "python"
    },
    "accelerator": "GPU"
  },
  "cells": [
    {
      "cell_type": "markdown",
      "metadata": {
        "id": "view-in-github",
        "colab_type": "text"
      },
      "source": [
        "<a href=\"https://colab.research.google.com/github/AlpaslanErdag/Chatbot-COMP4105/blob/main/ChatbotwithFourModels.ipynb\" target=\"_parent\"><img src=\"https://colab.research.google.com/assets/colab-badge.svg\" alt=\"Open In Colab\"/></a>"
      ]
    },
    {
      "cell_type": "code",
      "execution_count": null,
      "metadata": {
        "id": "mwnczWjWi02G"
      },
      "outputs": [],
      "source": [
        "import os\n",
        "import re\n",
        "import requests\n",
        "import zipfile\n",
        "import io\n",
        "import codecs\n",
        "import numpy as np\n",
        "import tensorflow as tf\n",
        "from keras.preprocessing.text import Tokenizer\n",
        "from keras.preprocessing.sequence import pad_sequences\n",
        "from tensorflow.keras.utils import to_categorical\n",
        "from tensorflow.keras.models import Model\n",
        "from tensorflow.keras.optimizers import Adam , SGD\n",
        "from tensorflow.keras.layers import Input, Dense, Embedding, Concatenate, GRU, LSTM, Bidirectional, Attention\n",
        "import matplotlib.pyplot as plt\n",
        "import warnings\n",
        "warnings.filterwarnings('ignore')\n",
        "import time"
      ]
    },
    {
      "cell_type": "markdown",
      "source": [
        "# **Data Importing**"
      ],
      "metadata": {
        "id": "JiXwDUawL-lW"
      }
    },
    {
      "cell_type": "code",
      "source": [
        "def get_all_conversations():\n",
        "    all_conversations = []\n",
        "    with codecs.open(\"./movie_lines.txt\", \n",
        "                     \"rb\", \n",
        "                     encoding=\"utf-8\", \n",
        "                     errors=\"ignore\") as f:\n",
        "        # split corpus by LF symbol\n",
        "        lines = f.read().split(\"\\n\")\n",
        "        for line in lines:\n",
        "            # each line has multiple columns divided by '+++$+++'\n",
        "            all_conversations.append(line.split(\" +++$+++ \"))\n",
        "    return all_conversations[:40000]\n",
        "\n",
        "def get_all_sorted_chats(all_conversations):\n",
        "    all_chats = {}\n",
        "    for tokens in all_conversations:\n",
        "        # if the line is valid - it contains all the metadata\n",
        "        if len(tokens) > 4:\n",
        "            # save the line number and the text itself    \n",
        "            all_chats[int(tokens[0][1:])] = tokens[4]\n",
        "    # then sort the result and return list of tuples\n",
        "    return sorted(all_chats.items(), key=lambda x: x[0])\n",
        "\n",
        "def get_conversation_dict(sorted_chats):\n",
        "    conv_dict = {}\n",
        "    counter = 1\n",
        "    conv_ids = []\n",
        "    for i in range(1, len(sorted_chats) + 1):\n",
        "        if i < len(sorted_chats):\n",
        "        # if the current line number differs \n",
        "        # from the previous only by 1\n",
        "            if (sorted_chats[i][0] - sorted_chats[i - 1][0]) == 1:\n",
        "             # then this line is a part of the current conversation\n",
        "             # if the previous line was not added before,\n",
        "             # then we should add it now\n",
        "                if sorted_chats[i - 1][1] not in conv_ids:\n",
        "                    conv_ids.append(sorted_chats[i - 1][1])\n",
        "                # or just append the current line\n",
        "                conv_ids.append(sorted_chats[i][1])\n",
        "            # and if the difference is more than 1 - it means new\n",
        "            # conversation has started and we should clear conv_ids\n",
        "            elif (sorted_chats[i][0] - sorted_chats[i - 1][0]) > 1:\n",
        "                conv_dict[counter] = conv_ids\n",
        "                conv_ids = []\n",
        "            counter += 1\n",
        "        else:\n",
        "            continue\n",
        "    return conv_dict"
      ],
      "metadata": {
        "id": "s2HO4nwXjBg2"
      },
      "execution_count": null,
      "outputs": []
    },
    {
      "cell_type": "markdown",
      "source": [
        "# **Data Preporcess Part**"
      ],
      "metadata": {
        "id": "0VYACcuNMDVm"
      }
    },
    {
      "cell_type": "code",
      "source": [
        "def clean_text(text_to_clean):\n",
        "    text = text_to_clean.lower()\n",
        "    text = re.sub(r\"i'm\", \"i am\", text)\n",
        "    text = re.sub(r\"he's\", \"he is\", text)\n",
        "    text = re.sub(r\"she's\", \"she is\", text)\n",
        "    text = re.sub(r\"it's\", \"it is\", text)\n",
        "    text = re.sub(r\"that's\", \"that is\", text)\n",
        "    text = re.sub(r\"what's\", \"that is\", text)\n",
        "    text = re.sub(r\"where's\", \"where is\", text)\n",
        "    text = re.sub(r\"how's\", \"how is\", text)\n",
        "    text = re.sub(r\"\\'ll\", \" will\", text)\n",
        "    text = re.sub(r\"\\'ve\", \" have\", text)\n",
        "    text = re.sub(r\"\\'re\", \" are\", text)\n",
        "    text = re.sub(r\"\\'d\", \" would\", text)\n",
        "    text = re.sub(r\"\\'re\", \" are\", text)\n",
        "    text = re.sub(r\"won't\", \"will not\", text)\n",
        "    text = re.sub(r\"can't\", \"cannot\", text)\n",
        "    text = re.sub(r\"n't\", \" not\", text)\n",
        "    text = re.sub(r\"n'\", \"ng\", text)\n",
        "    text = re.sub(r\"'bout\", \"about\", text)\n",
        "    text = re.sub(r\"'til\", \"until\", text)\n",
        "    text = re.sub(r\"[-()\\\"#/@;:<>{}`+=~|.!?,]\", \"\", text)\n",
        "    return text\n",
        "\n",
        "def get_clean_q_and_a(conversations_dictionary):\n",
        "    ctx_and_target = []\n",
        "    for current_conv in conversations_dictionary.values():\n",
        "        # make sure that each conversation \n",
        "        # contains an even number of lines\n",
        "        if len(current_conv) % 2 != 0:\n",
        "            current_conv = current_conv[:-1]\n",
        "        # convert questions and answers to the list of tuples\n",
        "        for i in range(0, len(current_conv), 2):\n",
        "            ctx_and_target.append((current_conv[i], \n",
        "                                   current_conv[i + 1]))\n",
        "    # zip with * operator unzips tuples into independent lists\n",
        "    context, target = zip(*ctx_and_target)\n",
        "    context_dirty = list(context)\n",
        "    # clear questions from contracted forms, non-letter symbols\n",
        "    # and convert it to lowercase\n",
        "    clean_questions = list()\n",
        "    for i in range(len(context_dirty)):\n",
        "        clean_questions.append(clean_text(context_dirty[i]))\n",
        "    target_dirty = list(target)\n",
        "    # do the same with the answers, but now we need\n",
        "    # to add 'start' and 'end' words\n",
        "    clean_answers = list()\n",
        "    for i in range(len(target_dirty)):\n",
        "        clean_answers.append('<START> ' \n",
        "                     + clean_text(target_dirty[i]) \n",
        "                     + ' <END>')\n",
        "    return clean_questions, clean_answers"
      ],
      "metadata": {
        "id": "WT33-aVvjLpC"
      },
      "execution_count": null,
      "outputs": []
    },
    {
      "cell_type": "code",
      "source": [
        "conversations = get_all_conversations()\n",
        "print(f'Total conversations in dataset: {len(conversations)}')\n",
        "all_sorted_chats = get_all_sorted_chats(conversations)\n",
        "conversation_dictionary = get_conversation_dict(all_sorted_chats)\n",
        "questions, answers = get_clean_q_and_a(conversation_dictionary)\n",
        "print(f'Questions in dataset: {len(questions)}')\n",
        "print(f'Answers in dataset: {len(answers)}')\n"
      ],
      "metadata": {
        "colab": {
          "base_uri": "https://localhost:8080/"
        },
        "id": "-e-QWFaHjNtF",
        "outputId": "35fe8dd4-4a96-43c4-8e64-fe78009087c3"
      },
      "execution_count": null,
      "outputs": [
        {
          "output_type": "stream",
          "name": "stdout",
          "text": [
            "Total conversations in dataset: 40000\n",
            "Questions in dataset: 18896\n",
            "Answers in dataset: 18896\n"
          ]
        }
      ]
    },
    {
      "cell_type": "markdown",
      "source": [
        "**Because of the memory constraints and to make model better, I wrote that code**"
      ],
      "metadata": {
        "id": "qwsgHXjiMJp_"
      }
    },
    {
      "cell_type": "code",
      "source": [
        "# This line is also important because of memory constraints. I realized that when the vocab size is above 5000 execution is crushed.\n",
        "# That's why I wantted use question(with their answer pair- which might have more words than this limitation) which includes 13 words or fewer\n",
        "sorted_ques = []\n",
        "sorted_ans = []\n",
        "for i in range(len(questions)):\n",
        "    if len(questions[i]) < 13:\n",
        "        sorted_ques.append(questions[i])\n",
        "        sorted_ans.append(answers[i])"
      ],
      "metadata": {
        "id": "cwvAAbd2dbvI"
      },
      "execution_count": null,
      "outputs": []
    },
    {
      "cell_type": "code",
      "source": [
        "print(f'Questions in dataset: {len(sorted_ques)}')\n",
        "print(f'Answers in dataset: {len(sorted_ans)}')"
      ],
      "metadata": {
        "colab": {
          "base_uri": "https://localhost:8080/"
        },
        "id": "lcy78T3qdjwh",
        "outputId": "3b0f658f-8159-4b1e-b552-ae8267766fc9"
      },
      "execution_count": null,
      "outputs": [
        {
          "output_type": "stream",
          "name": "stdout",
          "text": [
            "Questions in dataset: 2801\n",
            "Answers in dataset: 2801\n"
          ]
        }
      ]
    },
    {
      "cell_type": "code",
      "source": [
        "print(\"% of data used: {}%\".format(round(len(sorted_ans)/len(questions),4)*100))"
      ],
      "metadata": {
        "colab": {
          "base_uri": "https://localhost:8080/"
        },
        "id": "pzN5UHpcx288",
        "outputId": "4b16a976-61a4-4938-cc55-0a16b6c70192"
      },
      "execution_count": null,
      "outputs": [
        {
          "output_type": "stream",
          "name": "stdout",
          "text": [
            "% of data used: 100.0%\n"
          ]
        }
      ]
    },
    {
      "cell_type": "code",
      "source": [
        "questions = sorted_ques\n",
        "answers = sorted_ans"
      ],
      "metadata": {
        "id": "Y4hsZOuBd2rN"
      },
      "execution_count": null,
      "outputs": []
    },
    {
      "cell_type": "code",
      "source": [
        "print(f'Questions in dataset: {len(questions)}')\n",
        "print(f'Answers in dataset: {len(answers)}')"
      ],
      "metadata": {
        "colab": {
          "base_uri": "https://localhost:8080/"
        },
        "id": "oLnsN8cHd_P6",
        "outputId": "c269a4b4-3077-4fc7-fe2e-277d1ad4c961"
      },
      "execution_count": null,
      "outputs": [
        {
          "output_type": "stream",
          "name": "stdout",
          "text": [
            "Questions in dataset: 2801\n",
            "Answers in dataset: 2801\n"
          ]
        }
      ]
    },
    {
      "cell_type": "code",
      "source": [
        "filter_symbols = '!\"#$%&()*+,-./:;<=>?@[\\]^_`{|}~\\t\\n\\'0123456789'\n",
        "tokenizer = Tokenizer(filters=filter_symbols)\n",
        "tokenizer.fit_on_texts(questions + answers)\n",
        "VOCAB_SIZE = len(tokenizer.word_index) + 1\n",
        "print(f'Vocabulary size: {VOCAB_SIZE}')"
      ],
      "metadata": {
        "colab": {
          "base_uri": "https://localhost:8080/"
        },
        "id": "NTEaFXRrjPxS",
        "outputId": "87846054-6468-4b0a-e54e-2fb809047265"
      },
      "execution_count": null,
      "outputs": [
        {
          "output_type": "stream",
          "name": "stdout",
          "text": [
            "Vocabulary size: 4481\n"
          ]
        }
      ]
    },
    {
      "cell_type": "code",
      "source": [
        "print(tokenizer.word_index)"
      ],
      "metadata": {
        "colab": {
          "base_uri": "https://localhost:8080/"
        },
        "id": "DRZlA3uyNpsw",
        "outputId": "6f9d5268-f3ff-4a9a-a204-8f93c20f262b"
      },
      "execution_count": null,
      "outputs": [
        {
          "output_type": "stream",
          "name": "stdout",
          "text": [
            "{'start': 1, 'end': 2, 'you': 3, 'i': 4, 'is': 5, 'the': 6, 'it': 7, 'to': 8, 'a': 9, 'not': 10, 'what': 11, 'that': 12, 'do': 13, 'and': 14, 'are': 15, 'of': 16, 'me': 17, 'in': 18, 'no': 19, 'we': 20, 'have': 21, 'this': 22, 'he': 23, 'am': 24, 'for': 25, 'yes': 26, 'was': 27, 'my': 28, 's': 29, 'your': 30, 'know': 31, 'will': 32, 'on': 33, 'but': 34, 'be': 35, 'so': 36, 'oh': 37, 'yeah': 38, 'all': 39, 'why': 40, 'with': 41, 'they': 42, 'like': 43, 'go': 44, 'just': 45, 'up': 46, 'how': 47, 'would': 48, 'here': 49, 'who': 50, 'out': 51, 'did': 52, 'right': 53, 'him': 54, 'there': 55, 'now': 56, 'well': 57, 'get': 58, 'about': 59, 'can': 60, 'if': 61, 'where': 62, 'at': 63, 'got': 64, 'one': 65, 'see': 66, 'she': 67, 'okay': 68, 'think': 69, 'want': 70, 'then': 71, 'good': 72, 'going': 73, 'really': 74, 'as': 75, 'were': 76, 'come': 77, 'let': 78, 'them': 79, 'look': 80, 'her': 81, 'some': 82, 'time': 83, 'say': 84, 'back': 85, 'his': 86, 'when': 87, 'from': 88, 'tell': 89, 'sorry': 90, 'hi': 91, 'cannot': 92, 'could': 93, 'hello': 94, 'or': 95, 'something': 96, 'us': 97, 'been': 98, 'hey': 99, 'little': 100, 'sure': 101, 'thank': 102, 'man': 103, 'very': 104, 'our': 105, 'take': 106, 'said': 107, 'love': 108, 'much': 109, 'too': 110, 'sir': 111, 'never': 112, 'does': 113, 'had': 114, 'an': 115, 'any': 116, 'shit': 117, 'only': 118, 'into': 119, 'thing': 120, 'need': 121, 'two': 122, 'thanks': 123, 'down': 124, 'god': 125, 'gonna': 126, 'more': 127, 'nothing': 128, 'first': 129, 'by': 130, 'still': 131, 'make': 132, 'please': 133, 'mean': 134, 'because': 135, 'mr': 136, 'over': 137, 'way': 138, 'has': 139, 'everything': 140, 'thought': 141, 'other': 142, 'huh': 143, 'maybe': 144, 'people': 145, 'should': 146, 'years': 147, 'guy': 148, 'long': 149, 'call': 150, 'heard': 151, 'off': 152, 'dead': 153, 'after': 154, 'better': 155, 'ever': 156, 'these': 157, 'give': 158, 'great': 159, 'stop': 160, 'understand': 161, 'work': 162, 'leave': 163, 'wait': 164, 'name': 165, 'again': 166, 'home': 167, 'mrs': 168, 'talk': 169, 'around': 170, 'those': 171, 'course': 172, 'doing': 173, 'day': 174, 'help': 175, 'night': 176, 'uh': 177, 'put': 178, 'true': 179, 'remember': 180, 'anything': 181, 'big': 182, 'find': 183, 'even': 184, 'things': 185, 'than': 186, 'life': 187, 'told': 188, 'tonight': 189, 'which': 190, 'jesus': 191, 'wrong': 192, 'feel': 193, 'nice': 194, 'job': 195, 'else': 196, 'another': 197, 'coming': 198, 'believe': 199, 'fucking': 200, 'alright': 201, 'shut': 202, 'morning': 203, 'bad': 204, 'someone': 205, 'mind': 206, 'wanted': 207, 'before': 208, 'excuse': 209, 'keep': 210, 'lot': 211, 'kill': 212, 'car': 213, 'saw': 214, 'trying': 215, 'money': 216, 'might': 217, 'girl': 218, 'few': 219, 'getting': 220, 'away': 221, 'their': 222, 'show': 223, 'always': 224, 'new': 225, 'guess': 226, 'last': 227, 'fine': 228, 'woman': 229, 'dr': 230, 'exactly': 231, 'gotta': 232, 'place': 233, 'happened': 234, 'through': 235, 'fuck': 236, 'dad': 237, 'mom': 238, 'jack': 239, 'guys': 240, 'five': 241, 'second': 242, 'tomorrow': 243, 'room': 244, 'friend': 245, 'business': 246, 'came': 247, 'being': 248, 'father': 249, 'three': 250, 'may': 251, 'ask': 252, 'ok': 253, 'gone': 254, 'hate': 255, 'killed': 256, 'hear': 257, 'word': 258, 'listen': 259, 'pretty': 260, 'funny': 261, 'lost': 262, 'ready': 263, 'ma': 264, 'such': 265, 'left': 266, 'baby': 267, 'move': 268, 'harry': 269, 'enough': 270, 'door': 271, 'talking': 272, 'without': 273, 'made': 274, 'done': 275, 'says': 276, 'ahead': 277, 'ya': 278, 'beautiful': 279, 'stuff': 280, 'try': 281, 'alone': 282, 'john': 283, 'cause': 284, 'same': 285, 'alive': 286, 'men': 287, 'old': 288, 'yet': 289, 'knew': 290, 'today': 291, 'kind': 292, 'matter': 293, 'must': 294, 'stay': 295, 'comes': 296, 'went': 297, 'own': 298, 'part': 299, 'sleep': 300, 'head': 301, 'forget': 302, 'real': 303, 'weeks': 304, 'promise': 305, 'serious': 306, 'next': 307, 'four': 308, 'open': 309, 'careful': 310, 'david': 311, 'everybody': 312, 'idea': 313, 'late': 314, 'problem': 315, 'ten': 316, 'anyone': 317, 'live': 318, 'benjamin': 319, 'turn': 320, 'yourself': 321, 'minute': 322, 'every': 323, 'together': 324, 'mother': 325, 'almost': 326, 'took': 327, 'drink': 328, 'hell': 329, 'black': 330, 'war': 331, 'save': 332, 'doctor': 333, 'death': 334, 'dear': 335, 'shot': 336, 'c': 337, 'bit': 338, 'world': 339, 'soon': 340, 'found': 341, 'weir': 342, 'hard': 343, 'looks': 344, 'hope': 345, 'town': 346, 'phone': 347, 'called': 348, 'pay': 349, 'looking': 350, 'used': 351, 'myself': 352, 'whole': 353, 'somebody': 354, 'makes': 355, 'while': 356, 'wife': 357, 'least': 358, 'days': 359, 'both': 360, 'damn': 361, 'frank': 362, 'brian': 363, 'son': 364, 'luck': 365, 'change': 366, 'met': 367, 'once': 368, 'husband': 369, 'women': 370, 'week': 371, 'care': 372, 'stupid': 373, 'afraid': 374, 'either': 375, 'ass': 376, 'run': 377, 'chief': 378, 'hit': 379, 'bullshit': 380, 'cash': 381, 'far': 382, 'quite': 383, 'fun': 384, 'elaine': 385, 'majesty': 386, 'shall': 387, 'miss': 388, 'kidding': 389, 'patrick': 390, 'cool': 391, 'kiss': 392, 'o': 393, 'hold': 394, 'party': 395, 'best': 396, 'house': 397, 'don': 398, 'set': 399, 'high': 400, 'ben': 401, 'totally': 402, 'easy': 403, 'supposed': 404, 'taking': 405, 'police': 406, 'ai': 407, 'seen': 408, 'brought': 409, 'waiting': 410, 'friends': 411, 'thousand': 412, 'use': 413, 'needs': 414, 'happen': 415, 'gave': 416, 'since': 417, 'ship': 418, 'saying': 419, 'each': 420, 'daddy': 421, 'knows': 422, 'continued': 423, 'kid': 424, 'welcome': 425, 'poor': 426, 'buy': 427, 'key': 428, 'many': 429, 'ah': 430, 'boys': 431, 'peel': 432, 'read': 433, 'west': 434, 'holy': 435, 'gun': 436, 'sit': 437, 'goodnight': 438, 'bed': 439, 'drive': 440, 'stand': 441, 'scared': 442, 'clear': 443, 'trouble': 444, 'chance': 445, 'sounds': 446, 'later': 447, 'hundred': 448, 'star': 449, 'follow': 450, 'meet': 451, 'sister': 452, 'wanna': 453, 'die': 454, 'bring': 455, 'minutes': 456, 'ago': 457, 'parents': 458, 'telling': 459, 'thinking': 460, 'sick': 461, 'crazy': 462, 'though': 463, 'along': 464, 'boy': 465, 'story': 466, 'couple': 467, 'sense': 468, 'happens': 469, 'wow': 470, 'moving': 471, 'rick': 472, 'ted': 473, 'mozart': 474, 'opera': 475, 'fire': 476, 'bill': 477, 'send': 478, 'safe': 479, 'six': 480, 'actually': 481, 'free': 482, 'control': 483, 'christ': 484, 'goodbye': 485, 'uhhuh': 486, 'short': 487, 'nick': 488, 'watch': 489, 'eve': 490, 'adam': 491, 'office': 492, 'mon': 493, 'person': 494, 'rest': 495, 'worked': 496, 'heart': 497, 'seven': 498, 'lie': 499, 'movie': 500, 'ray': 501, 'josh': 502, 'different': 503, 'moreover': 504, 'till': 505, 'em': 506, 'girls': 507, 'kids': 508, 'imagine': 509, 'having': 510, 'besides': 511, 'most': 512, 'married': 513, 'number': 514, 'already': 515, 'rather': 516, 'wall': 517, 'fell': 518, 'young': 519, 'music': 520, 'company': 521, 'apartment': 522, 'working': 523, 'nobody': 524, 'reason': 525, 'hal': 526, 'lying': 527, 'alice': 528, 'break': 529, 'wade': 530, 'cut': 531, 'pleasure': 532, 'play': 533, 'cold': 534, 'price': 535, 'line': 536, 'theatre': 537, 'pardon': 538, 'milo': 539, 'insane': 540, 'wish': 541, 'months': 542, 'light': 543, 'dark': 544, 'twenty': 545, 'bet': 546, 'fair': 547, 'um': 548, 'bye': 549, 'brother': 550, 'dignan': 551, 'answer': 552, 'girlfriend': 553, 'slow': 554, 'president': 555, 'merrick': 556, 'hurry': 557, 'naomi': 558, 'yours': 559, 'eyes': 560, 'front': 561, 'mark': 562, 'deal': 563, 'anybody': 564, 'frances': 565, 'ha': 566, 'explain': 567, 'straight': 568, 'robinson': 569, 'tired': 570, 'until': 571, 'school': 572, 'unless': 573, 'york': 574, 'case': 575, 'small': 576, 'thirty': 577, 'suppose': 578, 'catch': 579, 'hurt': 580, 'hands': 581, 'daughter': 582, 'plane': 583, 'body': 584, 'past': 585, 'fast': 586, 'perhaps': 587, 'mistake': 588, 'forgive': 589, 'perfect': 590, 'full': 591, 'jesse': 592, 'anyway': 593, 'seeing': 594, 'also': 595, 'behind': 596, 'gets': 597, 'asked': 598, 'throwing': 599, 'under': 600, 'point': 601, 'doolittle': 602, 'band': 603, 'parts': 604, 'cop': 605, 'strange': 606, 'dream': 607, 'yesterday': 608, 'died': 609, 'swear': 610, 'pick': 611, 'pull': 612, 'jean': 613, 'coffee': 614, 'kimball': 615, 'gary': 616, 'tried': 617, 'scott': 618, 'cole': 619, 'fan': 620, 'dunbar': 621, 'bank': 622, 'uhuh': 623, 'anywhere': 624, 'nervous': 625, 'anthony': 626, 'water': 627, 'rose': 628, 'stake': 629, 'jake': 630, 'hand': 631, 'bomb': 632, 'bitch': 633, 'sort': 634, 'definitely': 635, 'joel': 636, 'reed': 637, 'mama': 638, 'personally': 639, 'dodge': 640, 'fault': 641, 'baron': 642, 'letters': 643, 'quiet': 644, 'paid': 645, 'forward': 646, 'pissed': 647, 'wonderful': 648, 'mine': 649, 'goddamn': 650, 'fact': 651, 'starting': 652, 'somewhere': 653, 'moment': 654, 'felt': 655, 'expect': 656, 'jill': 657, 'thinks': 658, 'shooting': 659, 'sound': 660, 'kept': 661, 'making': 662, 'captain': 663, 'hours': 664, 'eat': 665, 'bother': 666, 'gentlemen': 667, 'times': 668, 'beat': 669, 'attack': 670, 'hang': 671, 'seem': 672, 'rock': 673, 'seriously': 674, 'bus': 675, 'family': 676, 'future': 677, 'neighborhood': 678, 'y': 679, 'watching': 680, 'month': 681, 'nut': 682, 'crew': 683, 'cameron': 684, 'roger': 685, 'candy': 686, 'tom': 687, 'wha': 688, 'tickets': 689, 'jacob': 690, 'mommy': 691, 'twombley': 692, 'nuts': 693, 'screw': 694, 'locked': 695, 'german': 696, 'herr': 697, 'behold': 698, 'looked': 699, 'lunatic': 700, 'nurse': 701, 'bedroom': 702, 'dude': 703, 'helen': 704, 'hero': 705, 'ride': 706, 'drunk': 707, 'hmm': 708, 'darling': 709, 'dorsia': 710, 'shoot': 711, 'seat': 712, 'evil': 713, 'burn': 714, 'shhh': 715, 'shoes': 716, 'manray': 717, 'whatever': 718, 'shows': 719, 'vodka': 720, 'prosit': 721, 'eh': 722, 'tyrell': 723, 'hotel': 724, 'lucy': 725, 'brilliant': 726, 'nine': 727, 'bob': 728, 'm': 729, 'boss': 730, 'choose': 731, 'none': 732, 'mmmerrick': 733, 'hospital': 734, 'mary': 735, 'clementine': 736, 'siwash': 737, 'justin': 738, 'explanation': 739, 'hot': 740, 'cops': 741, 'madam': 742, 'fifteen': 743, 'jason': 744, 'commander': 745, 'smokes': 746, 'agree': 747, 'finally': 748, 'peter': 749, 'neil': 750, 'asleep': 751, 'movies': 752, 'train': 753, 'retired': 754, 'date': 755, 'decided': 756, 'fear': 757, 'food': 758, 'dance': 759, 'land': 760, 'country': 761, 'speak': 762, 'himself': 763, 'running': 764, 'caught': 765, 'questions': 766, 'inside': 767, 'murder': 768, 'book': 769, 'lawyer': 770, 'action': 771, 'base': 772, 'lines': 773, 'mission': 774, 'general': 775, 'outta': 776, 'ladies': 777, 'interested': 778, 'act': 779, 'city': 780, 'playing': 781, 'means': 782, 'army': 783, 'changed': 784, 'offer': 785, 'bag': 786, 'started': 787, 'plenty': 788, 'study': 789, 'mathews': 790, 'state': 791, 'hair': 792, 'asking': 793, 'terrible': 794, 'paris': 795, 'trip': 796, 'half': 797, 'cross': 798, 'sign': 799, 'using': 800, 'picked': 801, 'weekend': 802, 'lives': 803, 'turned': 804, 'lunch': 805, 'simple': 806, 'brain': 807, 'ice': 808, 'taken': 809, 'position': 810, 'grenade': 811, 'fellow': 812, 'possible': 813, 'paper': 814, 'worried': 815, 'measure': 816, 'blue': 817, 'whom': 818, 'moon': 819, 'truth': 820, 'acting': 821, 'piece': 822, 'james': 823, 'above': 824, 'fight': 825, 'cute': 826, 'asshole': 827, 'fall': 828, 'san': 829, 'dinner': 830, 'joke': 831, 'seems': 832, 'side': 833, 'between': 834, 'return': 835, 'report': 836, 'secret': 837, 'trust': 838, 'air': 839, 'face': 840, 'team': 841, 'meeting': 842, 'american': 843, 'gift': 844, 'king': 845, 'wants': 846, 'keeps': 847, 'outside': 848, 'test': 849, 'year': 850, 'works': 851, 'service': 852, 'feeling': 853, 'fat': 854, 'sex': 855, 'dunno': 856, 'angela': 857, 'spend': 858, 'jam': 859, 'choice': 860, 'goal': 861, 'readings': 862, 'proud': 863, 'manchester': 864, 'missed': 865, 'plan': 866, 'wake': 867, 'pleasant': 868, 'duty': 869, 'honey': 870, 'wet': 871, 'class': 872, 'saved': 873, 'noticed': 874, 'seconds': 875, 'curious': 876, 'excellent': 877, 'ta': 878, 'george': 879, 'hicks': 880, 'marriage': 881, 'sire': 882, 'pupils': 883, 'papa': 884, 'common': 885, 'wolf': 886, 'alex': 887, 'hirsch': 888, 'charlie': 889, 'longer': 890, 'yep': 891, 'st': 892, 'beg': 893, 'dammit': 894, 'mmm': 895, 'rich': 896, 'guilt': 897, 'worse': 898, 'behave': 899, 'blow': 900, 'impossible': 901, 'power': 902, 'mere': 903, 'fireman': 904, 'mccaffrey': 905, 'offense': 906, 'pike': 907, 'river': 908, 'binoculars': 909, 'tehronne': 910, 'sky': 911, 'card': 912, 'finish': 913, 'keys': 914, 'destroy': 915, 'monsieur': 916, 'ilsa': 917, 'laszlo': 918, 'wilson': 919, 'sell': 920, 'suits': 921, 'phoenix': 922, 'toy': 923, 'ii': 924, 'amber': 925, 'faster': 926, 'row': 927, 'hybrasil': 928, 'magic': 929, 'yo': 930, 'probably': 931, 'north': 932, 'clockworks': 933, 'skipper': 934, 'sue': 935, 'science': 936, 'problems': 937, 'suit': 938, 'bonham': 939, 'realize': 940, 'cha': 941, 'fully': 942, 'kurt': 943, 'mad': 944, 'victor': 945, 'aw': 946, 'richard': 947, 'unbelievable': 948, 'brandon': 949, 'meant': 950, 'broke': 951, 'mob': 952, 'radio': 953, 'al': 954, 'loser': 955, 'news': 956, 'bucks': 957, 'art': 958, 'cry': 959, 'vienna': 960, 'quit': 961, 'motherhood': 962, 'bianca': 963, 'older': 964, 'bend': 965, 'repeat': 966, 'leaving': 967, 'build': 968, 'fort': 969, 'ocean': 970, 'join': 971, 'smoking': 972, 'drugs': 973, 'appreciate': 974, 'awhile': 975, 'south': 976, 'erase': 977, 'camera': 978, 'address': 979, 'biggest': 980, 'order': 981, 'transit': 982, 'program': 983, 'wise': 984, 'ganz': 985, 'road': 986, 'losing': 987, 'bought': 988, 'dollar': 989, 'bust': 990, 'struck': 991, 'ought': 992, 'empty': 993, 'twice': 994, 'pulled': 995, 'simply': 996, 'june': 997, 'detective': 998, 'cost': 999, 'machine': 1000, 'murdered': 1001, 'pattern': 1002, 'throat': 1003, 'forest': 1004, 'dying': 1005, 'feels': 1006, 'summer': 1007, 'stick': 1008, 'prove': 1009, 'amanda': 1010, 'sad': 1011, 'close': 1012, 'lesson': 1013, 'its': 1014, 'difference': 1015, 'nope': 1016, 'wondering': 1017, 'glad': 1018, 'rid': 1019, 'everyone': 1020, 'cuts': 1021, 'airplane': 1022, 'church': 1023, 'known': 1024, 'age': 1025, 'children': 1026, 'lots': 1027, 'giving': 1028, 'arms': 1029, 'marry': 1030, 'trap': 1031, 'against': 1032, 'er': 1033, 'worry': 1034, 'upon': 1035, 'marvelous': 1036, 'foot': 1037, 'suddenly': 1038, 'forced': 1039, 'killing': 1040, 'stomach': 1041, 'anymore': 1042, 'begin': 1043, 'nations': 1044, 'weather': 1045, 'blood': 1046, 'telephone': 1047, 'relationship': 1048, 'handle': 1049, 'terribly': 1050, 'spoke': 1051, 'involved': 1052, 'near': 1053, 'honeymoon': 1054, 'finished': 1055, 'cattle': 1056, 'miles': 1057, 'dating': 1058, 'eight': 1059, 'red': 1060, 'donald': 1061, 'department': 1062, 'outpost': 1063, 'mole': 1064, 'question': 1065, 'occurred': 1066, 'cat': 1067, 'female': 1068, 'england': 1069, 'human': 1070, 'split': 1071, 'lucky': 1072, 'nature': 1073, 'personal': 1074, 'mouth': 1075, 'interest': 1076, 'showing': 1077, 'stroke': 1078, 'floor': 1079, 'listening': 1080, 'boat': 1081, 'quick': 1082, 'history': 1083, 'rooms': 1084, 'kendall': 1085, 'whoever': 1086, 'positive': 1087, 'medical': 1088, 'french': 1089, 'except': 1090, 'actor': 1091, 'freak': 1092, 'plant': 1093, 'growing': 1094, 'stuck': 1095, 'drinking': 1096, 'picture': 1097, 'soft': 1098, 'completely': 1099, 'piss': 1100, 'cleaned': 1101, 'entrance': 1102, 'obvious': 1103, 'sending': 1104, 'gentleman': 1105, 'scare': 1106, 'jeffrey': 1107, 'jeff': 1108, 'waste': 1109, 'thief': 1110, 'applejack': 1111, 'ran': 1112, 'living': 1113, 'conklin': 1114, 'bourne': 1115, 'dreams': 1116, 'less': 1117, 'mademoiselle': 1118, 'danger': 1119, 'sent': 1120, 'camp': 1121, 'informed': 1122, 'pass': 1123, 'storm': 1124, 'powder': 1125, 'consider': 1126, 'sometimes': 1127, 'grand': 1128, 'casino': 1129, 'universe': 1130, 'b': 1131, 'taught': 1132, 'happy': 1133, 'unusual': 1134, 'spray': 1135, 'clock': 1136, 'smith': 1137, 'street': 1138, 'eaten': 1139, 'contest': 1140, 'crush': 1141, 'mangs': 1142, 'gives': 1143, 'merger': 1144, 'unwelcome': 1145, 'duck': 1146, 'whore': 1147, 'hmmmm': 1148, 'folks': 1149, 'id': 1150, 'traitor': 1151, 'billy': 1152, 'bear': 1153, 'hiya': 1154, 'amen': 1155, 'apipoulai': 1156, 'odd': 1157, 'twentyfive': 1158, 'meaning': 1159, 'safety': 1160, 'rolfe': 1161, 'dunn': 1162, 'rain': 1163, 'amy': 1164, 'ellen': 1165, 'fartsbishop': 1166, 'humiliated': 1167, 'hardly': 1168, 'excellency': 1169, 'italian': 1170, 'kessler': 1171, 'closet': 1172, 'bathroom': 1173, 'dickson': 1174, 'absolutely': 1175, 'matt': 1176, 'web': 1177, 'ones': 1178, 'neither': 1179, 'louis': 1180, 'won': 1181, 'uncle': 1182, 'interesting': 1183, 'prick': 1184, 'obviously': 1185, 'sea': 1186, 'amnesia': 1187, 'steed': 1188, 'bottle': 1189, 'resign': 1190, 'debbie': 1191, 'tap': 1192, 'mantan': 1193, 'early': 1194, 'grady': 1195, 'bloom': 1196, 'syevodnya': 1197, 'laugh': 1198, 'lazarus': 1199, 'mmmm': 1200, 'naw': 1201, 'ronnie': 1202, 'backup': 1203, 'desert': 1204, 'thirteen': 1205, 'lewis': 1206, 'hmmm': 1207, 'locks': 1208, 'calvin': 1209, 'smart': 1210, 'dickhead': 1211, 'perry': 1212, 'thankq': 1213, 'bites': 1214, 'dorothy': 1215, 'bodies': 1216, 'roc': 1217, 'murph': 1218, 'yyes': 1219, 'hoto': 1220, 'freeze': 1221, 'temporarily': 1222, 'treadstone': 1223, 'berlin': 1224, 'lord': 1225, 'peace': 1226, 'william': 1227, 'ouch': 1228, 'evan': 1229, 'treborn': 1230, 'cancer': 1231, 'sam': 1232, 'evening': 1233, 'chuck': 1234, 'chickens': 1235, 'cares': 1236, 'homer': 1237, 'mess': 1238, 'percent': 1239, 'minus': 1240, 'tip': 1241, 'calls': 1242, 'rough': 1243, 'planets': 1244, 'bent': 1245, 'wire': 1246, 'sunday': 1247, 'wicked': 1248, 'kitty': 1249, 'gerald': 1250, 'ow': 1251, 'dakota': 1252, 'wisconsin': 1253, 'rufus': 1254, 'ohhh': 1255, 'lovely': 1256, 'aaagh': 1257, 'boo': 1258, 'stan': 1259, 'ho': 1260, 'joely': 1261, 'tangerine': 1262, 'howard': 1263, 'ranch': 1264, 'frozen': 1265, 'peters': 1266, 'coop': 1267, 'sweet': 1268, 'driving': 1269, 'fascinating': 1270, 'sometime': 1271, 'naked': 1272, 'dick': 1273, 'mmmmmmmph': 1274, 'mexico': 1275, 'ease': 1276, 'pretend': 1277, 'e': 1278, 'arnold': 1279, 'leo': 1280, 'drown': 1281, 'fucker': 1282, 'hassle': 1283, 'rules': 1284, 'seymour': 1285, 'goddammit': 1286, 'decent': 1287, 'circle': 1288, 'buddy': 1289, 'jordan': 1290, 'subject': 1291, 'caiman': 1292, 'carl': 1293, 'dancing': 1294, 'grusinskaya': 1295, 'bless': 1296, 'roy': 1297, 'arm': 1298, 'upstate': 1299, 'stratford': 1300, 'allowed': 1301, 'proper': 1302, 'particularly': 1303, 'situation': 1304, 'major': 1305, 'jones': 1306, 'goes': 1307, 'approve': 1308, 'twist': 1309, 'wearing': 1310, 'mistakes': 1311, 'truly': 1312, 'hip': 1313, 'based': 1314, 'pinzon': 1315, 'medicine': 1316, 'passage': 1317, 'surprise': 1318, 'dog': 1319, 'civil': 1320, 'rights': 1321, 'finest': 1322, 'bath': 1323, 'unknown': 1324, 'cover': 1325, 'pulling': 1326, 'angry': 1327, 'propose': 1328, 'da': 1329, 'murderer': 1330, 'director': 1331, 'liberty': 1332, 'arrangements': 1333, 'apparently': 1334, 'during': 1335, 'knowledge': 1336, 'maintain': 1337, 'normal': 1338, 'condition': 1339, 'check': 1340, 'airlock': 1341, 'doors': 1342, 'secure': 1343, 'complain': 1344, 'deliver': 1345, 'bar': 1346, 'owes': 1347, 'nearly': 1348, 'prison': 1349, 'clean': 1350, 'numbers': 1351, 'greatest': 1352, 'finger': 1353, 'push': 1354, 'fucked': 1355, 'destruction': 1356, 'stinking': 1357, 'eating': 1358, 'chaos': 1359, 'mostly': 1360, 'empire': 1361, 'building': 1362, 'places': 1363, 'combination': 1364, 'concerned': 1365, 'private': 1366, 'citizens': 1367, 'thomas': 1368, 'pounds': 1369, 'brown': 1370, 'missing': 1371, 'aside': 1372, 'area': 1373, 'mask': 1374, 'stock': 1375, 'figure': 1376, 'services': 1377, 'played': 1378, 'square': 1379, 'recognize': 1380, 'knife': 1381, 'raped': 1382, 'kristen': 1383, 'coach': 1384, 'hon': 1385, 'model': 1386, 'boyfriend': 1387, 'downstairs': 1388, 'especially': 1389, 'hour': 1390, 'mel': 1391, 'tv': 1392, 'goddamned': 1393, 'figured': 1394, 'apart': 1395, 'spotted': 1396, 'n': 1397, 'visit': 1398, 'liked': 1399, 'suffer': 1400, 'disappoint': 1401, 'drug': 1402, 'alcohol': 1403, 'abuse': 1404, 'upsetting': 1405, 'mail': 1406, 'favors': 1407, 'musta': 1408, 'policeman': 1409, 'emergency': 1410, 'compartment': 1411, 'jim': 1412, 'difficult': 1413, 'tits': 1414, 'command': 1415, 'fly': 1416, 'fifth': 1417, 'wheel': 1418, 'passed': 1419, 'function': 1420, 'tie': 1421, 'carol': 1422, 'conceived': 1423, 'cabin': 1424, 'lasts': 1425, 'several': 1426, 'labor': 1427, 'hudson': 1428, 'snap': 1429, 'value': 1430, 'd': 1431, 'confession': 1432, 'familiar': 1433, 'stopping': 1434, 'stopped': 1435, 'salzburg': 1436, 'grace': 1437, 'slipped': 1438, 'tune': 1439, 'commission': 1440, 'brothel': 1441, 'talent': 1442, 'slut': 1443, 'trick': 1444, 'bringing': 1445, 'considered': 1446, 'honour': 1447, 'musician': 1448, 'feelings': 1449, 'game': 1450, 'remain': 1451, 'teach': 1452, 'owe': 1453, 'tells': 1454, 'speaks': 1455, 'noise': 1456, 'rewrite': 1457, 'sublime': 1458, 'utterly': 1459, 'sitting': 1460, 'coffin': 1461, 'silence': 1462, 'mass': 1463, 'salieri': 1464, 'passion': 1465, 'touched': 1466, 'powerless': 1467, 'laughing': 1468, 'frightened': 1469, 'maledictis': 1470, 'third': 1471, 'flammis': 1472, 'acribus': 1473, 'fourth': 1474, 'ad': 1475, 'pointed': 1476, 'united': 1477, 'aware': 1478, 'rome': 1479, 'given': 1480, 'strong': 1481, 'regarding': 1482, 'gotten': 1483, 'across': 1484, 'stranger': 1485, 'ancient': 1486, 'powers': 1487, 'darkness': 1488, 'suicide': 1489, 'traditional': 1490, 'silly': 1491, 'witnesses': 1492, 'others': 1493, 'certain': 1494, 'liar': 1495, 'goodness': 1496, 'becoming': 1497, 'stories': 1498, 'invite': 1499, 'forgotten': 1500, 'planned': 1501, 'sampson': 1502, 'knocked': 1503, 'pin': 1504, 'womangs': 1505, 'doc': 1506, 'board': 1507, 'discover': 1508, 'railroad': 1509, 'kissing': 1510, 'mimms': 1511, 'riding': 1512, 'toward': 1513, 'rising': 1514, 'sun': 1515, 'jimmy': 1516, 'piggy': 1517, 'calm': 1518, 'spiked': 1519, 'pumpkin': 1520, 'wear': 1521, 'reserve': 1522, 'table': 1523, 'butter': 1524, 'magazine': 1525, 'ignoring': 1526, 'ashtray': 1527, 'crystal': 1528, 'paul': 1529, 'december': 1530, 'coke': 1531, 'halcyon': 1532, 'questioned': 1533, 'davis': 1534, 'badmouth': 1535, 'amusing': 1536, 'dork': 1537, 'boring': 1538, 'digital': 1539, 'weird': 1540, 'moved': 1541, 'defense': 1542, 'irony': 1543, 'hall': 1544, 'stayed': 1545, 'hated': 1546, 'deeper': 1547, 'per': 1548, 'device': 1549, 'takes': 1550, 'joins': 1551, 'appear': 1552, 'quality': 1553, 'shrot': 1554, 'suspects': 1555, 'entered': 1556, 'hanging': 1557, 'apologize': 1558, 'suspicious': 1559, 'longitude': 1560, 'precisely': 1561, 'points': 1562, 'complete': 1563, 'island': 1564, 'therefore': 1565, 'austin': 1566, 'couch': 1567, 'experience': 1568, 'political': 1569, 'main': 1570, 'project': 1571, 'august': 1572, 'field': 1573, 'relaxing': 1574, 'flower': 1575, 'treatment': 1576, 'frankly': 1577, 'local': 1578, 'systems': 1579, 'separated': 1580, 'type': 1581, 'lions': 1582, 'christmas': 1583, 'serves': 1584, 'dress': 1585, 'bond': 1586, 'grow': 1587, 'stephen': 1588, 'cheap': 1589, 'burning': 1590, 'anna': 1591, 'photograph': 1592, 'scene': 1593, 'huge': 1594, 'rimgale': 1595, 'pair': 1596, 'waited': 1597, 'lead': 1598, 'kinda': 1599, 'famous': 1600, 'truck': 1601, 'gig': 1602, 'staff': 1603, 'write': 1604, 'laid': 1605, 'plans': 1606, 'character': 1607, 'argument': 1608, 'unique': 1609, 'nobleman': 1610, 'terms': 1611, 'fix': 1612, 'sergeant': 1613, 'interrogation': 1614, 'dollars': 1615, 'pen': 1616, 'drop': 1617, 'blew': 1618, 'pack': 1619, 'match': 1620, 'although': 1621, 'cloud': 1622, 'comfortable': 1623, 'childs': 1624, 'letter': 1625, 'chemicals': 1626, 'words': 1627, 'walk': 1628, 'ashton': 1629, 'favorite': 1630, 'argue': 1631, 'beginning': 1632, 'cousin': 1633, 'birthday': 1634, 'glasses': 1635, 'fifty': 1636, 'cats': 1637, 'pregnant': 1638, 'passport': 1639, 'smoke': 1640, 'gal': 1641, 'hoarse': 1642, 'soil': 1643, 'nitrate': 1644, 'matthew': 1645, 'seed': 1646, 'gold': 1647, 'keeping': 1648, 'tied': 1649, 'box': 1650, 'criminal': 1651, 'visa': 1652, 'national': 1653, 'cheese': 1654, 'profession': 1655, 'risk': 1656, 'wandering': 1657, 'considering': 1658, 'bryant': 1659, 'entertainment': 1660, 'bio': 1661, 'wreck': 1662, 'nexus': 1663, 'locate': 1664, 'retire': 1665, 'blast': 1666, 'selling': 1667, 'hole': 1668, 'walking': 1669, 'penis': 1670, 'capable': 1671, 'legs': 1672, 'named': 1673, 'supplies': 1674, 'backyard': 1675, 'wazoo': 1676, 'trash': 1677, 'signals': 1678, 'lady': 1679, 'whispering': 1680, 'collapsed': 1681, 'bombs': 1682, 'undressed': 1683, 'bourbon': 1684, 'breasts': 1685, 'pictures': 1686, 'opened': 1687, 'disease': 1688, 'aye': 1689, 'bullet': 1690, 'eye': 1691, 'lay': 1692, 'sink': 1693, 'metal': 1694, 'gimme': 1695, 'agent': 1696, 'cc': 1697, 'russian': 1698, 'paying': 1699, 'attention': 1700, 'deep': 1701, 'breath': 1702, 'marks': 1703, 'inez': 1704, 'master': 1705, 'crowd': 1706, 'sneakers': 1707, 'list': 1708, 'lincoln': 1709, 'doubt': 1710, 'basement': 1711, 'lately': 1712, 'particular': 1713, 'planet': 1714, 'entire': 1715, 'burial': 1716, 'blockbuster': 1717, 'ferrari': 1718, 'escape': 1719, 'fool': 1720, 'lonely': 1721, 'sake': 1722, 'grant': 1723, 'religious': 1724, 'breaking': 1725, 'noland': 1726, 'cup': 1727, 'reading': 1728, 'heroin': 1729, 'alfonse': 1730, 'million': 1731, 'classy': 1732, 'ring': 1733, 'lion': 1734, 'dealer': 1735, 'croupier': 1736, 'nest': 1737, 'sevenfifty': 1738, 'reality': 1739, 'odds': 1740, 'fred': 1741, 'rainbow': 1742, 'blame': 1743, 'mystery': 1744, 'sources': 1745, 'ways': 1746, 'selfish': 1747, 'logan': 1748, 'clearly': 1749, 'large': 1750, 'tight': 1751, 'drummer': 1752, 'bernard': 1753, 'detroit': 1754, 'public': 1755, 'boogie': 1756, 'oogie': 1757, 'student': 1758, 'finding': 1759, 'donnie': 1760, 'conversation': 1761, 'material': 1762, 'behaviour': 1763, 'rabbit': 1764, 'horrible': 1765, 'letting': 1766, 'loretta': 1767, 'track': 1768, 'secretary': 1769, 'tea': 1770, 'treves': 1771, 'rape': 1772, 'bridge': 1773, 'dragon': 1774, 'sword': 1775, 'waves': 1776, 'keitel': 1777, 'slept': 1778, 'hide': 1779, 'hat': 1780, 'refill': 1781, 'forever': 1782, 'significant': 1783, 'criminally': 1784, 'seemed': 1785, 'shock': 1786, 'white': 1787, 'grew': 1788, 'maniacs': 1789, 'america': 1790, 'ridge': 1791, 'beer': 1792, 'green': 1793, 'miller': 1794, 'reach': 1795, 'dj': 1796, 'convinced': 1797, 'gravity': 1798, 'support': 1799, 'astronauts': 1800, 'event': 1801, 'horizon': 1802, 'reaction': 1803, 'corridor': 1804, 'separate': 1805, 'dennis': 1806, 'stacy': 1807, 'acid': 1808, 'chest': 1809, 'prepare': 1810, 'guns': 1811, 'cars': 1812, 'smile': 1813, 'win': 1814, 'hollywood': 1815, 'misunderstanding': 1816, 'throw': 1817, 'career': 1818, 'creature': 1819, 'kate': 1820, 'mathesar': 1821, 'caw': 1822, 'core': 1823, 'zimm': 1824, 'menu': 1825, 'vessel': 1826, 'outa': 1827, 'natural': 1828, 'mongoose': 1829, 'maxine': 1830, 'guitars': 1831, 'goat': 1832, 'hooves': 1833, 'dana': 1834, 'chair': 1835, 'rotten': 1836, 'diego': 1837, 'allez': 1838, 'learned': 1839, 'mcquire': 1840, 'stenographer': 1841, 'offices': 1842, 'mutual': 1843, 'advantages': 1844, 'surgeon': 1845, 'kringelein': 1846, 'humm': 1847, 'aristocrat': 1848, 'bobo': 1849, 'thirtytwo': 1850, 'dorsey': 1851, 'kat': 1852, 'colon': 1853, 'monk': 1854, 'bloody': 1855, 'emil': 1856, 'spent': 1857, 'sorrypd': 1858, 'heads': 1859, 'robert': 1860, 'pros': 1861, 'stall': 1862, 'partnership': 1863, 'options': 1864, 'priest': 1865, 'leeloo': 1866, 'apipoussan': 1867, 'pittsburgh': 1868, 'succeeded': 1869, 'snuff': 1870, 'eddie': 1871, 'vomit': 1872, 'heywake': 1873, 'lillian': 1874, 'marg': 1875, 'spring': 1876, 'pop': 1877, 'bang': 1878, 'shepherd': 1879, 'oveur': 1880, 'striker': 1881, 'airsick': 1882, 'pilots': 1883, 'sykes': 1884, 'ss': 1885, 'kya': 1886, 'potent': 1887, 'movement': 1888, 'mommymommy': 1889, 'uivolitub': 1890, 'tishi': 1891, 'amtee': 1892, 'maestro': 1893, 'frau': 1894, 'originals': 1895, 'sssh': 1896, 'gertrude': 1897, 'anger': 1898, 'animals': 1899, 'ill': 1900, 'bene': 1901, 'pecos': 1902, 'kitchen': 1903, 'whose': 1904, 'finlay': 1905, 'easterners': 1906, 'buckets': 1907, 'riders': 1908, 'zee': 1909, 'tennessee': 1910, 'yees': 1911, 'habit': 1912, 'yale': 1913, 'whatisit': 1914, 'andluis': 1915, 'sorbet': 1916, 'bite': 1917, 'marcus': 1918, 'justsayno': 1919, 'carnes': 1920, 'lisa': 1921, 'reef': 1922, 'cyclops': 1923, 'swell': 1924, 'dave': 1925, 'groovy': 1926, 'ahhhhhhhhh': 1927, 'health': 1928, 'carnies': 1929, 'basil': 1930, 'luv': 1931, 'vet': 1932, 'due': 1933, 'bass': 1934, 'knight': 1935, 'preserve': 1936, 'choices': 1937, 'oops': 1938, 'firehouse': 1939, 'likely': 1940, 'pest': 1941, 'arson': 1942, 'homey': 1943, 'inspector': 1944, 'outlets': 1945, 'delacroix': 1946, 'mona': 1947, 'finland': 1948, 'valdez': 1949, 'styles': 1950, 'baseball': 1951, 'levi': 1952, 'nah': 1953, 'daffodils': 1954, 'awake': 1955, 'frenzy': 1956, 'teh': 1957, 'itches': 1958, 'freedom': 1959, 'shift': 1960, 'dope': 1961, 'prayer': 1962, 'squid': 1963, 'ich': 1964, 'snitch': 1965, 'yakuza': 1966, 'unavailable': 1967, 'drinks': 1968, 'joyce': 1969, 'taffey': 1970, 'stocked': 1971, 'pris': 1972, 'elbows': 1973, 'umhum': 1974, 'troy': 1975, 'gay': 1976, 'falling': 1977, 'sandy': 1978, 'murphy': 1979, 'shh': 1980, 'grammar': 1981, 'woah': 1982, 'scarecrow': 1983, 'nevins': 1984, 'emptied': 1985, 'pamela': 1986, 'landy': 1987, 'fresh': 1988, 'abbott': 1989, 'lung': 1990, 'books': 1991, 'manages': 1992, 'expenses': 1993, 'sonofabitch': 1994, 'ropes': 1995, 'liberator': 1996, 'view': 1997, 'ticktock': 1998, 'grifters': 1999, 'aces': 2000, 'intuition': 2001, 'eightfifty': 2002, 'bella': 2003, 'bruised': 2004, 'ross': 2005, 'talby': 2006, 'pinback': 2007, 'fog': 2008, 'sketchy': 2009, 'unlikely': 2010, 'dogs': 2011, 'bastard': 2012, 'ahh': 2013, 'sunshine': 2014, 'jeremiah': 2015, 'namely': 2016, 'dudes': 2017, 'ccannot': 2018, 'bustier': 2019, 'chut': 2020, 'monnitoff': 2021, 'lester': 2022, 'youbetcha': 2023, 'leeman': 2024, 'sa': 2025, 'yyess': 2026, 'scream': 2027, 'louder': 2028, 'leif': 2029, 'sh': 2030, 'sven': 2031, 'odin': 2032, 'kay': 2033, 'bully': 2034, 'moi': 2035, 'hitchhiking': 2036, 'whooee': 2037, 'claire': 2038, 'trauma': 2039, 'built': 2040, 'copy': 2041, 'understood': 2042, 'likey': 2043, 'page': 2044, 'scuse': 2045, 'spicoli': 2046, 'rat': 2047, 'ugh': 2048, 'cokes': 2049, 'mike': 2050, 'dartmouth': 2051, 'tape': 2052, 'umhmmm': 2053, 'covered': 2054, 'holds': 2055, 'meee': 2056, 'bread': 2057, 'kaminski': 2058, 'showdown': 2059, 'incurable': 2060, 'ennh': 2061, 'paracelsus': 2062, 'preposterous': 2063, 'electricity': 2064, 'professor': 2065, 'claudette': 2066, 'cowboy': 2067, 'artist': 2068, 'melvin': 2069, 'belli': 2070, 'creepy': 2071, 'mexicans': 2072, 'whiskey': 2073, 'noooo': 2074, 'twentyeight': 2075, 'vamanos': 2076, 'twit': 2077, 'leadership': 2078, 'theramin': 2079, 'hologram': 2080, 'clenched': 2081, 'jaw': 2082, 'colonel': 2083, 'wil': 2084, 'partially': 2085, 'yessir': 2086, 'cotton': 2087, 'doris': 2088, 'airport': 2089, 'chili': 2090, 'barboni': 2091, 'sovereign': 2092, 'lemme': 2093, 'funky': 2094, 'enid': 2095, 'occasionally': 2096, 'pete': 2097, 'janosz': 2098, 'ghostbusters': 2099, 'sorrow': 2100, 'coronado': 2101, 'narcissus': 2102, 'merde': 2103, 'plastics': 2104, 'wood': 2105, 'college': 2106, 'mccleery': 2107, 'marble': 2108, 'skiing': 2109, 'mop': 2110, 'rags': 2111, 'absinthe': 2112, 'whadaya': 2113, 'spender': 2114, 'atascadero': 2115, 'exposed': 2116, 'group': 2117, 'freshmen': 2118, 'sophomore': 2119, 'haircut': 2120, 'impossibility': 2121, 'verona': 2122, 'random': 2123, 'skid': 2124, 'attempted': 2125, 'slit': 2126, 'u': 2127, 'introduction': 2128, 'mercy': 2129, 'hideous': 2130, 'breed': 2131, 'talker': 2132, 'expensive': 2133, 'trashed': 2134, 'puked': 2135, 'rejected': 2136, 'wholesome': 2137, 'panties': 2138, 'chapin': 2139, 'disappointed': 2140, 'hearsay': 2141, 'therapy': 2142, 'pastels': 2143, 'rod': 2144, 'joey': 2145, 'setup': 2146, 'allure': 2147, 'dehydrated': 2148, 'theories': 2149, 'studies': 2150, 'pity': 2151, 'admire': 2152, 'dreamer': 2153, 'paulie': 2154, 'smell': 2155, 'chemicalsfor': 2156, 'testing': 2157, 'violated': 2158, 'homesick': 2159, 'eastern': 2160, 'european': 2161, 'czech': 2162, 'prettiest': 2163, 'suspect': 2164, 'prints': 2165, 'dreamed': 2166, 'kicking': 2167, 'yelling': 2168, 'partner': 2169, 'whether': 2170, 'slovakia': 2171, 'civilian': 2172, 'fled': 2173, 'knowturn': 2174, 'cameras': 2175, 'lens': 2176, 'til': 2177, 'video': 2178, 'milos': 2179, 'tamina': 2180, 'oleg': 2181, 'decision': 2182, 'videotape': 2183, 'deposition': 2184, 'thirtypercent': 2185, 'negotiate': 2186, 'whenever': 2187, 'recording': 2188, 'repeats': 2189, 'equipment': 2190, 'manage': 2191, 'communication': 2192, 'smyslov': 2193, 'discuss': 2194, 'incidentally': 2195, 'floyd': 2196, 'wonder': 2197, 'security': 2198, 'clavius': 2199, 'accounting': 2200, 'received': 2201, 'ags': 2202, 'notification': 2203, 'rumour': 2204, 'orbital': 2205, 'checkout': 2206, 'conceivable': 2207, 'coninued': 2208, 'approximately': 2209, 'hibernation': 2210, 'recovery': 2211, 'vehicle': 2212, 'rendezous': 2213, 'purpose': 2214, 'carry': 2215, 'continuation': 2216, 'space': 2217, 'further': 2218, 'eva': 2219, 'assembly': 2220, 'east': 2221, 'bay': 2222, 'sprung': 2223, 'gang': 2224, 'anthing': 2225, 'bothering': 2226, 'pieces': 2227, 'brothers': 2228, 'fairy': 2229, 'godmother': 2230, 'ganzwhere': 2231, 'butbilly': 2232, 'tend': 2233, 'himi': 2234, 'laps': 2235, 'hammond': 2236, 'punk': 2237, 'lowlife': 2238, 'serial': 2239, 'luther': 2240, 'thrown': 2241, 'admit': 2242, 'crook': 2243, 'extraordinary': 2244, 'historycan': 2245, 'implications': 2246, 'fame': 2247, 'salud': 2248, 'bud': 2249, 'puppygood': 2250, 'loaded': 2251, 'yellow': 2252, 'button': 2253, 'budi': 2254, 'nobly': 2255, 'serve': 2256, 'glass': 2257, 'nastiest': 2258, 'dirtbag': 2259, 'shitty': 2260, 'croquettes': 2261, 'youjust': 2262, 'operative': 2263, 'hoppihoppa': 2264, 'screen': 2265, 'sleaze': 2266, 'release': 2267, 'crate': 2268, 'sighed': 2269, 'notorious': 2270, 'eccentric': 2271, 'cultivated': 2272, 'legendary': 2273, 'fortyfive': 2274, 'troubles': 2275, 'loyal': 2276, 'loved': 2277, 'deeply': 2278, 'cutting': 2279, 'tricks': 2280, 'access': 2281, 'archive': 2282, 'normally': 2283, 'licensed': 2284, 'investigator': 2285, 'following': 2286, 'height': 2287, 'weight': 2288, 'blonde': 2289, 'born': 2290, 'april': 2291, 'th': 2292, 'runaway': 2293, 'listed': 2294, 'information': 2295, 'correct': 2296, 'persons': 2297, 'note': 2298, 'batteryoperated': 2299, 'vagina': 2300, 'pennsylvania': 2301, 'pi': 2302, 'pa': 2303, 'mister': 2304, 'dealt': 2305, 'certainly': 2306, 'film': 2307, 'belongings': 2308, 'code': 2309, 'celebrity': 2310, 'films': 2311, 'christian': 2312, 'welles': 2313, 'flea': 2314, 'dino': 2315, 'velvet': 2316, 'players': 2317, 'purchase': 2318, 'goods': 2319, 'anne': 2320, 'carefully': 2321, 'witness': 2322, 'avenge': 2323, 'drugged': 2324, 'motel': 2325, 'andandand': 2326, 'herhe': 2327, 'knifes': 2328, 'buried': 2329, 'popping': 2330, 'aspiring': 2331, 'popcorn': 2332, 'avoidallcontactday': 2333, 'salvation': 2334, 'nightmares': 2335, 'according': 2336, 'hunted': 2337, 'roasted': 2338, 'assume': 2339, 'freddy': 2340, 'sudden': 2341, 'seats': 2342, 'lands': 2343, 'helluva': 2344, 'babe': 2345, 'exactlyit': 2346, 'thati': 2347, 'sinceall': 2348, 'saving': 2349, 'faint': 2350, 'invited': 2351, 'nuns': 2352, 'bumping': 2353, 'themselves': 2354, 'hides': 2355, 'closedoff': 2356, 'trickor': 2357, 'treating': 2358, 'gutshoot': 2359, 'cripple': 2360, 'tag': 2361, 'guarantee': 2362, 'gordon': 2363, 'meadow': 2364, 'sungs': 2365, 'gettin': 2366, 'rewards': 2367, 'sally': 2368, 'attago': 2369, 'spelled': 2370, 'custody': 2371, 'cart': 2372, 'margie': 2373, 'buck': 2374, 'cliff': 2375, 'deader': 2376, 'halloween': 2377, 'whitehouse': 2378, 'instead': 2379, 'shoulda': 2380, 'froze': 2381, 'accident': 2382, 'exwife': 2383, 'sexual': 2384, 'child': 2385, 'retainer': 2386, 'legally': 2387, 'financially': 2388, 'allergic': 2389, 'blamed': 2390, 'grandpa': 2391, 'mac': 2392, 'pizza': 2393, 'illegal': 2394, 'checked': 2395, 'manifest': 2396, 'accounted': 2397, 'static': 2398, 'overwhelms': 2399, 'voice': 2400, 'avionics': 2401, 'zedeck': 2402, 'martyr': 2403, 'savior': 2404, 'fax': 2405, 'machines': 2406, 'flew': 2407, 'teem': 2408, 'te': 2409, 'amazingly': 2410, 'complex': 2411, 'organ': 2412, 'flight': 2413, 'kurtz': 2414, 'premature': 2415, 'ejection': 2416, 'compute': 2417, 'randy': 2418, 'acute': 2419, 'stewardess': 2420, 'pairwhen': 2421, 'ethel': 2422, 'socially': 2423, 'washandwear': 2424, 'clipon': 2425, 'landlady': 2426, 'kristin': 2427, 'edie': 2428, 'banged': 2429, 'picking': 2430, 'plaster': 2431, 'volunteer': 2432, 'mates': 2433, 'season': 2434, 'todd': 2435, 'watson': 2436, 'assistant': 2437, 'manager': 2438, 'cocaine': 2439, 'receive': 2440, 'amounts': 2441, 'reward': 2442, 'ssai': 2443, 'harcourt': 2444, 'ripleymcclaren': 2445, 'sixtysix': 2446, 'licked': 2447, 'cremated': 2448, 'interred': 2449, 'parkside': 2450, 'repository': 2451, 'chute': 2452, 'aponewhere': 2453, 'dblock': 2454, 'sothen': 2455, 'fusion': 2456, 'containment': 2457, 'shuts': 2458, 'thermonuclear': 2459, 'explosion': 2460, 'meani': 2461, 'emotional': 2462, 'judgments': 2463, 'cautiously': 2464, 'physical': 2465, 'installation': 2466, 'substantial': 2467, 'attached': 2468, 'gungs': 2469, 'launcher': 2470, 'sight': 2471, 'sin': 2472, 'forgiveness': 2473, 'regret': 2474, 'slowly': 2475, 'residence': 2476, 'tub': 2477, 'itub': 2478, 'vol': 2479, 'ui': 2480, 'guests': 2481, 'servants': 2482, 'provocation': 2483, 'endure': 2484, 'license': 2485, 'allow': 2486, 'fraulein': 2487, 'lorl': 2488, 'relic': 2489, 'concert': 2490, 'stool': 2491, 'antoinette': 2492, 'helped': 2493, 'herself': 2494, 'jumped': 2495, 'count': 2496, 'orsinirosenberg': 2497, 'mio': 2498, 'caro': 2499, 'adone': 2500, 'yielded': 2501, 'vote': 2502, 'libretto': 2503, 'harem': 2504, 'turkish': 2505, 'katherina': 2506, 'unquestionably': 2507, 'worst': 2508, 'viennese': 2509, 'madame': 2510, 'behalf': 2511, 'hus': 2512, 'samples': 2513, 'royal': 2514, 'appointment': 2515, 'warmest': 2516, 'stanzimanzibanziwanzi': 2517, 'inquiries': 2518, 'routine': 2519, 'alarming': 2520, 'singer': 2521, 'molested': 2522, 'patriotic': 2523, 'michael': 2524, 'admirer': 2525, 'wishes': 2526, 'anon': 2527, 'anonymous': 2528, 'staying': 2529, 'burden': 2530, 'hush': 2531, 'express': 2532, 'gratitude': 2533, 'fathers': 2534, 'commandment': 2535, 'earth': 2536, 'individuals': 2537, 'harmony': 2538, 'begins': 2539, 'ballet': 2540, 'snake': 2541, 'dresden': 2542, 'twelve': 2543, 'folds': 2544, 'inches': 2545, 'miracle': 2546, 'funeral': 2547, 'cathedral': 2548, 'middle': 2549, 'divine': 2550, 'bursts': 2551, 'requiem': 2552, 'wolfgang': 2553, 'composed': 2554, 'devoted': 2555, 'antonio': 2556, 'sublimity': 2557, 'depth': 2558, 'actual': 2559, 'vaudeville': 2560, 'colleague': 2561, 'fancies': 2562, 'wonderfully': 2563, 'triumphdeluxe': 2564, 'audience': 2565, 'shouted': 2566, 'minor': 2567, 'voices': 2568, 'basses': 2569, 'confutatis': 2570, 'gsharp': 2571, 'addictis': 2572, 'dictis': 2573, 'sing': 2574, 'foolish': 2575, 'heat': 2576, 'pentangle': 2577, 'witchcraft': 2578, 'lon': 2579, 'chaney': 2580, 'jr': 2581, 'universal': 2582, 'studios': 2583, 'atlantic': 2584, 'present': 2585, 'coyote': 2586, 'heathcliffe': 2587, 'circling': 2588, 'susan': 2589, 'practice': 2590, 'suffered': 2591, 'severe': 2592, 'bruises': 2593, 'dueling': 2594, 'scars': 2595, 'boast': 2596, 'fierce': 2597, 'strength': 2598, 'sedative': 2599, 'lt': 2600, 'villiers': 2601, 'sgt': 2602, 'mcmanus': 2603, 'moors': 2604, 'hobbs': 2605, 'patient': 2606, 'twentyone': 2607, 'tray': 2608, 'harder': 2609, 'traumatized': 2610, 'torn': 2611, 'bare': 2612, 'ahem': 2613, 'warwick': 2614, 'castle': 2615, 'attracted': 2616, 'candid': 2617, 'simplicity': 2618, 'familiarity': 2619, 'armor': 2620, 'restfulness': 2621, 'modest': 2622, 'tail': 2623, 'herd': 2624, 'warn': 2625, 'survived': 2626, 'continue': 2627, 'curse': 2628, 'beware': 2629, 'supernatural': 2630, 'charming': 2631, 'hallucinating': 2632, 'guinness': 2633, 'suffice': 2634, 'paint': 2635, 'apprehensive': 2636, 'persisted': 2637, 'werewolf': 2638, 'fantasies': 2639, 'escaped': 2640, 'community': 2641, 'hiding': 2642, 'fours': 2643, 'howling': 2644, 'deranged': 2645, 'harm': 2646, 'strangely': 2647, 'lucid': 2648, 'kick': 2649, 'uniform': 2650, 'ummm': 2651, 'stalling': 2652, 'pembroke': 2653, 'schaffer': 2654, 'guaranty': 2655, 'mortgage': 2656, 'foreclose': 2657, 'insurance': 2658, 'useless': 2659, 'scratch': 2660, 'sticks': 2661, 'dynamite': 2662, 'reforming': 2663, 'cyril': 2664, 'riot': 2665, 'philadelphia': 2666, 'closes': 2667, 'dig': 2668, 'lick': 2669, 'humor': 2670, 'humming': 2671, 'machree': 2672, 'worn': 2673, 'floppy': 2674, 'easter': 2675, 'hats': 2676, 'reckoned': 2677, 'yankees': 2678, 'garrison': 2679, 'occupied': 2680, 'territory': 2681, 'godforsaken': 2682, 'dirt': 2683, 'evict': 2684, 'farmers': 2685, 'pathetic': 2686, 'mudholes': 2687, 'shakespeare': 2688, 'poems': 2689, 'quote': 2690, 'planning': 2691, 'quoting': 2692, 'pinkertons': 2693, 'feud': 2694, 'detectives': 2695, 'replace': 2696, 'law': 2697, 'hoyah': 2698, 'lawman': 2699, 'carville': 2700, 'badman': 2701, 'eagle': 2702, 'jealous': 2703, 'awful': 2704, 'bounty': 2705, 'hunters': 2706, 'lawmen': 2707, 'county': 2708, 'grave': 2709, 'extra': 2710, 'cows': 2711, 'brand': 2712, 'farm': 2713, 'billings': 2714, 'barrel': 2715, 'pork': 2716, 'lard': 2717, 'consciously': 2718, 'aerobics': 2719, 'messages': 2720, 'negative': 2721, 'cancel': 2722, 'reservations': 2723, 'camols': 2724, 'twelvethirty': 2725, 'crayons': 2726, 'doll': 2727, 'perrier': 2728, 'evian': 2729, 'ridiculous': 2730, 'dickweed': 2731, 'fabulous': 2732, 'ummyesi': 2733, 'eightthirty': 2734, 'courtney': 2735, 'peanut': 2736, 'soup': 2737, 'smoked': 2738, 'mashed': 2739, 'squash': 2740, 'playful': 2741, 'mysterious': 2742, 'dish': 2743, 'thenthe': 2744, 'snapper': 2745, 'violets': 2746, 'pine': 2747, 'nicely': 2748, 'inch': 2749, 'force': 2750, 'ejaculate': 2751, 'bateman': 2752, 'lithium': 2753, 'pelle': 2754, 'whisks': 2755, 'yeahyale': 2756, 'fingerprints': 2757, 'burglarized': 2758, 'tad': 2759, 'maura': 2760, 'butyou': 2761, 'luis': 2762, 'murders': 2763, 'executions': 2764, 'dressedokay': 2765, 'diet': 2766, 'happyhave': 2767, 'disappearance': 2768, 'twentieth': 2769, 'owen': 2770, 'denies': 2771, 'fatal': 2772, 'flaw': 2773, 'batemangs': 2774, 'spineless': 2775, 'lightweight': 2776, 'fooled': 2777, 'mcdermottotherwise': 2778, 'hilarious': 2779, 'killer': 2780, 'refreshments': 2781, 'laced': 2782, 'mindaltering': 2783, 'boyd': 2784, 'hoping': 2785, 'amazing': 2786, 'strides': 2787, 'convergence': 2788, 'houseman': 2789, 'guard': 2790, 'barely': 2791, 'teachers': 2792, 'wrote': 2793, 'teddy': 2794, 'glorified': 2795, 'cherry': 2796, 'geek': 2797, 'upset': 2798, 'wouldid': 2799, 'mention': 2800, 'justice': 2801, 'drove': 2802, 'possessed': 2803, 'putting': 2804, 'mocked': 2805, 'savvy': 2806, 'clueless': 2807, 'cultivate': 2808, 'conniving': 2809, 'timewarner': 2810, 'cent': 2811, 'settop': 2812, 'cnn': 2813, 'ge': 2814, 'venture': 2815, 'nbc': 2816, 'disney': 2817, 'abc': 2818, 'newscorp': 2819, 'fox': 2820, 'continuous': 2821, 'loop': 2822, 'alternative': 2823, 'press': 2824, 'parent': 2825, 'subsidiary': 2826, 'online': 2827, 'logos': 2828, 'broadcast': 2829, 'reviewing': 2830, 'readouts': 2831, 'notices': 2832, 'allnighter': 2833, 'chopsticks': 2834, 'degrees': 2835, 'backwards': 2836, 'moderate': 2837, 'incident': 2838, 'statute': 2839, 'pole': 2840, 'occurrence': 2841, 'distress': 2842, 'freighter': 2843, 'ellesmere': 2844, 'greenland': 2845, 'mayday': 2846, 'thennothing': 2847, 'uyouu': 2848, 'lad': 2849, 'selected': 2850, 'specimens': 2851, 'examine': 2852, 'desirable': 2853, 'features': 2854, 'incorporate': 2855, 'earthcolonizers': 2856, 'uthatu': 2857, 'ulittleu': 2858, 'uroughu': 2859, 'ucanu': 2860, 'andy': 2861, 'warhol': 2862, 'ministry': 2863, 'cryogenically': 2864, 'reminder': 2865, 'organization': 2866, 'tolerate': 2867, 'failure': 2868, 'bug': 2869, 'remind': 2870, 'unfreezing': 2871, 'process': 2872, 'flatulence': 2873, 'moments': 2874, 'extreme': 2875, 'relaxation': 2876, 'virtucon': 2877, 'social': 2878, 'upheaval': 2879, 'prime': 2880, 'minister': 2881, 'abolishment': 2882, 'apartheid': 2883, 'tapestry': 2884, 'strum': 2885, 'und': 2886, 'drang': 2887, 'petting': 2888, 'zoo': 2889, 'escapes': 2890, 'repair': 2891, 'chamber': 2892, 'vulcan': 2893, 'settled': 2894, 'honorifics': 2895, 'kindly': 2896, 'wished': 2897, 'possibly': 2898, 'personality': 2899, 'indeed': 2900, 'protection': 2901, 'shots': 2902, 'rings': 2903, 'merryweather': 2904, 'tuscan': 2905, 'hillside': 2906, 'winslow': 2907, 'lepidoptorists': 2908, 'wins': 2909, 'emma': 2910, 'genius': 2911, 'prospero': 2912, 'zap': 2913, 'chernobyls': 2914, 'valentine': 2915, 'original': 2916, 'emergencies': 2917, 'chaperon': 2918, 'incredible': 2919, 'deb': 2920, 'smokehouse': 2921, 'vengeful': 2922, 'kenya': 2923, 'slob': 2924, 'success': 2925, 'outlook': 2926, 'dump': 2927, 'seventyfive': 2928, 'wedding': 2929, 'caterers': 2930, 'gown': 2931, 'tuxedo': 2932, 'shower': 2933, 'bachelor': 2934, 'lips': 2935, 'numb': 2936, 'thomerson': 2937, 'sob': 2938, 'barn': 2939, 'dozen': 2940, 'sport': 2941, 'jennifer': 2942, 'fitzgerald': 2943, 'brotherly': 2944, 'assigned': 2945, 'scotch': 2946, 'glory': 2947, 'investigationgs': 2948, 'probationary': 2949, 'showed': 2950, 'bravery': 2951, 'courage': 2952, 'veteran': 2953, 'firefighter': 2954, 'risked': 2955, 'limb': 2956, 'doublecheck': 2957, 'emerging': 2958, 'victoriously': 2959, 'rodriguez': 2960, 'seamstress': 2961, 'shore': 2962, 'clothing': 2963, 'gained': 2964, 'prominence': 2965, 'pulitzer': 2966, 'prize': 2967, 'winning': 2968, 'investigators': 2969, 'visible': 2970, 'representing': 2971, 'authentic': 2972, 'firefighting': 2973, 'clan': 2974, 'hose': 2975, 'shadow': 2976, 'treated': 2977, 'trychtichlorate': 2978, 'binary': 2979, 'structured': 2980, 'straightest': 2981, 'snail': 2982, 'hay': 2983, 'loft': 2984, 'horsedrawn': 2985, 'engines': 2986, 'alderman': 2987, 'dumb': 2988, 'engine': 2989, 'probie': 2990, 'smarter': 2991, 'beall': 2992, 'endall': 2993, 'eureka': 2994, 'maumau': 2995, 'cheeba': 2996, 'uneducated': 2997, 'negro': 2998, 'stupidity': 2999, 'haywire': 3000, 'joint': 3001, 'upside': 3002, 'sledgehammer': 3003, 'perfectly': 3004, 'minority': 3005, 'relate': 3006, 'struggle': 3007, 'pilot': 3008, 'successful': 3009, 'judge': 3010, 'whiteness': 3011, 'finlandia': 3012, 'rap': 3013, 'chant': 3014, 'coons': 3015, 'created': 3016, 'nonthreatening': 3017, 'african': 3018, 'male': 3019, 'voila': 3020, 'racist': 3021, 'appropiate': 3022, 'inferior': 3023, 'subhuman': 3024, 'broken': 3025, 'carrying': 3026, 'hidden': 3027, 'bucket': 3028, 'sloan': 3029, 'ambassador': 3030, 'highly': 3031, 'recommended': 3032, 'seebach': 3033, 'determined': 3034, 'chevalier': 3035, 'lover': 3036, 'passing': 3037, 'fancy': 3038, 'loving': 3039, 'possessing': 3040, 'revered': 3041, 'monarch': 3042, 'considerable': 3043, 'intimacy': 3044, 'reliance': 3045, 'advancement': 3046, 'claim': 3047, 'viscounty': 3048, 'happening': 3049, 'suspiciously': 3050, 'microrecorder': 3051, 'joined': 3052, 'jab': 3053, 'neck': 3054, 'faggot': 3055, 'charges': 3056, 'creek': 3057, 'mueller': 3058, 'gunfire': 3059, 'sarge': 3060, 'sweeping': 3061, 'phosphorous': 3062, 'pops': 3063, 'click': 3064, 'pocket': 3065, 'ballistics': 3066, 'weapon': 3067, 'slugs': 3068, 'coupled': 3069, 'charge': 3070, 'version': 3071, 'events': 3072, 'osborne': 3073, 'painkillers': 3074, 'injury': 3075, 'nunez': 3076, 'hardy': 3077, 'jag': 3078, 'notified': 3079, 'senator': 3080, 'reflect': 3081, 'unavoidable': 3082, 'culpability': 3083, 'bind': 3084, 'chemo': 3085, 'quarter': 3086, 'nekkid': 3087, 'fish': 3088, 'catches': 3089, 'english': 3090, 'jungle': 3091, 'speaking': 3092, 'elaborate': 3093, 'parrots': 3094, 'politics': 3095, 'fashion': 3096, 'religion': 3097, 'luckiest': 3098, 'reputation': 3099, 'edward': 3100, 'engaged': 3101, 'romance': 3102, 'josephine': 3103, 'russia': 3104, 'nadia': 3105, 'toast': 3106, 'noodle': 3107, 'retard': 3108, 'actors': 3109, 'novgorod': 3110, 'chicken': 3111, 'gate': 3112, 'explains': 3113, 'birds': 3114, 'judgmental': 3115, 'tour': 3116, 'indian': 3117, 'guide': 3118, 'cafe': 3119, 'burnt': 3120, 'punish': 3121, 'ticket': 3122, 'lab': 3123, 'deserve': 3124, 'buckingham': 3125, 'tapped': 3126, 'fixing': 3127, 'spirit': 3128, 'holla': 3129, 'self': 3130, 'faithless': 3131, 'perverse': 3132, 'generation': 3133, 'cuz': 3134, 'corn': 3135, 'fertilizer': 3136, 'crop': 3137, 'soy': 3138, 'beans': 3139, 'sting': 3140, 'healing': 3141, 'farming': 3142, 'parable': 3143, 'sower': 3144, 'toss': 3145, 'wayside': 3146, 'thorns': 3147, 'laz': 3148, 'chained': 3149, 'rl': 3150, 'buddies': 3151, 'jokes': 3152, 'shouting': 3153, 'chu': 3154, 'cereal': 3155, 'song': 3156, 'nosey': 3157, 'counter': 3158, 'regulation': 3159, 'shove': 3160, 'hopeless': 3161, 'plug': 3162, 'godzilla': 3163, 'pussy': 3164, 'personnel': 3165, 'shutup': 3166, 'nailed': 3167, 'expired': 3168, 'twentyfour': 3169, 'deported': 3170, 'sugai': 3171, 'emperor': 3172, 'treasures': 3173, 'hood': 3174, 'unprotected': 3175, 'iq': 3176, 'hypothetical': 3177, 'nights': 3178, 'managed': 3179, 'corporation': 3180, 'guards': 3181, 'genetic': 3182, 'sector': 3183, 'fried': 3184, 'electro': 3185, 'deckard': 3186, 'bothered': 3187, 'unhealthy': 3188, 'rundown': 3189, 'requested': 3190, 'applicants': 3191, 'esper': 3192, 'concluded': 3193, 'irregular': 3194, 'category': 3195, 'section': 3196, 'silicone': 3197, 'valley': 3198, 'techs': 3199, 'zoners': 3200, 'arts': 3201, 'loud': 3202, 'lewd': 3203, 'federation': 3204, 'variety': 3205, 'artists': 3206, 'jeezus': 3207, 'cockroaches': 3208, 'sebastian': 3209, 'afternoon': 3210, 'canapt': 3211, 'tenth': 3212, 'villa': 3213, 'vita': 3214, 'district': 3215, 'olympia': 3216, 'eldon': 3217, 'massacred': 3218, 'pressure': 3219, 'terminated': 3220, 'designated': 3221, 'rachael': 3222, 'motto': 3223, 'atomic': 3224, 'radiation': 3225, 'halflife': 3226, 'iyou': 3227, 'caved': 3228, 'surface': 3229, 'elevator': 3230, 'presents': 3231, 'lights': 3232, 'upi': 3233, 'soyousurvived': 3234, 'terrificexceptit': 3235, 'intelligent': 3236, 'speech': 3237, 'angel': 3238, 'protect': 3239, 'beloved': 3240, 'butt': 3241, 'butts': 3242, 'wind': 3243, 'shallow': 3244, 'lowpaying': 3245, 'demeaning': 3246, 'jerry': 3247, 'lousy': 3248, 'nonmutant': 3249, 'pasadenathat': 3250, 'crap': 3251, 'seei': 3252, 'promising': 3253, 'seeingsnow': 3254, 'snow': 3255, 'inalaska': 3256, 'winters': 3257, 'juneau': 3258, 'highest': 3259, 'peak': 3260, 'whataya': 3261, 'surfer': 3262, 'grunge': 3263, 'hop': 3264, 'euro': 3265, 'educate': 3266, 'unpredictable': 3267, 'basically': 3268, 'bravo': 3269, 'swept': 3270, 'ear': 3271, 'bookstore': 3272, 'nina': 3273, 'aron': 3274, 'assistance': 3275, 'arecertainly': 3276, 'lifewell': 3277, 'thinkdadthere': 3278, 'crashed': 3279, 'newspapers': 3280, 'soviet': 3281, 'union': 3282, 'fired': 3283, 'gosh': 3284, 'commies': 3285, 'aid': 3286, 'vacation': 3287, 'shame': 3288, 'cake': 3289, 'popular': 3290, 'friday': 3291, 'fit': 3292, 'shithead': 3293, 'nipples': 3294, 'enter': 3295, 'runner': 3296, 'football': 3297, 'beeeee': 3298, 'semen': 3299, 'warm': 3300, 'hmmmmmmmm': 3301, 'discovered': 3302, 'term': 3303, 'legal': 3304, 'wives': 3305, 'wider': 3306, 'thumb': 3307, 'connor': 3308, 'sensitivity': 3309, 'fairer': 3310, 'lemon': 3311, 'casings': 3312, 'disturb': 3313, 'newman': 3314, 'root': 3315, 'faucet': 3316, 'drain': 3317, 'fbi': 3318, 'rocco': 3319, 'retaliation': 3320, 'gussy': 3321, 'sniffing': 3322, 'driver': 3323, 'available': 3324, 'italy': 3325, 'register': 3326, 'step': 3327, 'treads': 3328, 'exact': 3329, 'jail': 3330, 'silk': 3331, 'coward': 3332, 'cooper': 3333, 'francisco': 3334, 'henry': 3335, 'concussion': 3336, 'boxman': 3337, 'arranged': 3338, 'dreamers': 3339, 'relieve': 3340, 'pain': 3341, 'consciousness': 3342, 'sailboat': 3343, 'telegraph': 3344, 'rental': 3345, 'sleeps': 3346, 'tent': 3347, 'corner': 3348, 'hyundai': 3349, 'silver': 3350, 'vetted': 3351, 'source': 3352, 'marty': 3353, 'narrow': 3354, 'bargain': 3355, 'calendar': 3356, 'definitive': 3357, 'naples': 3358, 'settle': 3359, 'raise': 3360, 'contact': 3361, 'killers': 3362, 'jacked': 3363, 'dobermans': 3364, 'coat': 3365, 'munich': 3366, 'loose': 3367, 'caffeine': 3368, 'medication': 3369, 'closed': 3370, 'assignment': 3371, 'geneva': 3372, 'danny': 3373, 'zorngs': 3374, 'zorn': 3375, 'tapes': 3376, 'ramstein': 3377, 'germany': 3378, 'woken': 3379, 'directed': 3380, 'conference': 3381, 'ended': 3382, 'defeat': 3383, 'projects': 3384, 'drawing': 3385, 'journal': 3386, 'extremely': 3387, 'useful': 3388, 'jog': 3389, 'memory': 3390, 'remembers': 3391, 'results': 3392, 'committed': 3393, 'shucks': 3394, 'repressed': 3395, 'lecher': 3396, 'tighty': 3397, 'whities': 3398, 'memories': 3399, 'begun': 3400, 'exam': 3401, 'answers': 3402, 'sorority': 3403, 'thinker': 3404, 'ev': 3405, 'boom': 3406, 'keen': 3407, 'analytical': 3408, 'insight': 3409, 'matched': 3410, 'generous': 3411, 'relatively': 3412, 'stable': 3413, 'relationships': 3414, 'matching': 3415, 'plots': 3416, 'spit': 3417, 't': 3418, 'sorts': 3419, 'concentrate': 3420, 'blown': 3421, 'woulda': 3422, 'shhhh': 3423, 'journals': 3424, 'parrot': 3425, 'extravagant': 3426, 'someday': 3427, 'scarce': 3428, 'ordinary': 3429, 'arrest': 3430, 'organized': 3431, 'underground': 3432, 'everywhere': 3433, 'caverne': 3434, 'du': 3435, 'bois': 3436, 'champagne': 3437, 'cocktails': 3438, 'expected': 3439, 'casablanca': 3440, 'signor': 3441, 'gent': 3442, 'lille': 3443, 'marseilles': 3444, 'held': 3445, 'yvonne': 3446, 'enemy': 3447, 'willing': 3448, 'confidential': 3449, 'intention': 3450, 'sentiment': 3451, 'persuade': 3452, 'unexpected': 3453, 'connected': 3454, 'czechoslovakia': 3455, 'needed': 3456, 'prague': 3457, 'gestapo': 3458, 'twoline': 3459, 'item': 3460, 'apprehended': 3461, 'concentration': 3462, 'frantic': 3463, 'rear': 3464, 'attract': 3465, 'convince': 3466, 'pretended': 3467, 'warsaw': 3468, 'mclelland': 3469, 'abe': 3470, 'borrow': 3471, 'sailing': 3472, 'puppy': 3473, 'sixty': 3474, 'consumed': 3475, 'capita': 3476, 'beef': 3477, 'chickengs': 3478, 'global': 3479, 'taboos': 3480, 'hindus': 3481, 'muslims': 3482, 'boycotting': 3483, 'poultry': 3484, 'fedex': 3485, 'delivery': 3486, 'kamal': 3487, 'raft': 3488, 'mirage': 3489, 'chuckchuck': 3490, 'shark': 3491, 'braided': 3492, 'anchor': 3493, 'sail': 3494, 'capsizing': 3495, 'theory': 3496, 'collect': 3497, 'cliches': 3498, 'mainly': 3499, 'granted': 3500, 'sweat': 3501, 'package': 3502, 'larch': 3503, 'edna': 3504, 'agnes': 3505, 'enlisted': 3506, 'dropping': 3507, 'mandalay': 3508, 'plumber': 3509, 'defect': 3510, 'muddy': 3511, 'stars': 3512, 'feet': 3513, 'sack': 3514, 'rephrase': 3515, 'daffy': 3516, 'block': 3517, 'kneecaps': 3518, 'pockets': 3519, 'bitchy': 3520, 'fleece': 3521, 'gillette': 3522, 'vig': 3523, 'invisible': 3524, 'spook': 3525, 'spectre': 3526, 'ghost': 3527, 'member': 3528, 'moorely': 3529, 'shirt': 3530, 'gillett': 3531, 'pickings': 3532, 'papers': 3533, 'larger': 3534, 'issues': 3535, 'confidence': 3536, 'clothes': 3537, 'rope': 3538, 'banker': 3539, 'pearson': 3540, 'lawschool': 3541, 'carolyn': 3542, 'policy': 3543, 'anniversary': 3544, 'special': 3545, 'vouch': 3546, 'embarrassing': 3547, 'mirror': 3548, 'cheers': 3549, 'euc': 3550, 'sooner': 3551, 'desperate': 3552, 'switch': 3553, 'pinched': 3554, 'london': 3555, 'chatting': 3556, 'golden': 3557, 'bayswater': 3558, 'gamble': 3559, 'reynolds': 3560, 'gaming': 3561, 'crow': 3562, 'diff': 3563, 'manfred': 3564, 'shopped': 3565, 'accusing': 3566, 'cheating': 3567, 'within': 3568, 'offering': 3569, 'afford': 3570, 'gambling': 3571, 'facing': 3572, 'lose': 3573, 'jani': 3574, 'computer': 3575, 'fail': 3576, 'boiler': 3577, 'temp': 3578, 'figures': 3579, 'charts': 3580, 'dwarf': 3581, 'hereby': 3582, 'veil': 3583, 'nebula': 3584, 'phenomenology': 3585, 'failsafe': 3586, 'asteroids': 3587, 'glow': 3588, 'colors': 3589, 'fade': 3590, 'slightest': 3591, 'grain': 3592, 'idiot': 3593, 'downass': 3594, 'straightup': 3595, 'kinduvmysterious': 3596, 'roaring': 3597, 'fits': 3598, 'description': 3599, 'glove': 3600, 'drone': 3601, 'pony': 3602, 'client': 3603, 'share': 3604, 'ego': 3605, 'prisoners': 3606, 'genes': 3607, 'edgar': 3608, 'sonrisa': 3609, 'fiance': 3610, 'lydia': 3611, 'natalie': 3612, 'ankles': 3613, 'lotta': 3614, 'nerve': 3615, 'crying': 3616, 'fallthen': 3617, 'heand': 3618, 'bruno': 3619, 'mattress': 3620, 'wherever': 3621, 'schedule': 3622, 'market': 3623, 'nimrod': 3624, 'jeans': 3625, 'quartet': 3626, 'lighten': 3627, 'chez': 3628, 'lex': 3629, 'grab': 3630, 'volvo': 3631, 'bail': 3632, 'arrive': 3633, 'station': 3634, 'yeeeehaaawww': 3635, 'curly': 3636, 'abuses': 3637, 'privilege': 3638, 'bright': 3639, 'daniels': 3640, 'rocks': 3641, 'undress': 3642, 'exhibitionists': 3643, 'nutcases': 3644, 'suggestion': 3645, 'shake': 3646, 'groove': 3647, 'carnal': 3648, 'impure': 3649, 'thoughts': 3650, 'teacher': 3651, 'magazines': 3652, 'suggest': 3653, 'bench': 3654, 'juicier': 3655, 'confess': 3656, 'roll': 3657, 'lucifer': 3658, 'kingdom': 3659, 'insulted': 3660, 'wreaking': 3661, 'bo': 3662, 'guessing': 3663, 'hairy': 3664, 'frankie': 3665, 'feedler': 3666, 'china': 3667, 'freaked': 3668, 'bottom': 3669, 'destructive': 3670, 'steroids': 3671, 'sleepwalking': 3672, 'sixfoottall': 3673, 'bunny': 3674, 'gusta': 3675, 'students': 3676, 'paralysed': 3677, 'fears': 3678, 'selfdoubt': 3679, 'surrender': 3680, 'temptations': 3681, 'premarital': 3682, 'solutions': 3683, 'toxic': 3684, 'diseasespreading': 3685, 'spear': 3686, 'crisis': 3687, 'allegations': 3688, 'cunningham': 3689, 'arraignment': 3690, 'los': 3691, 'angeles': 3692, 'chaperone': 3693, 'horny': 3694, 'gretchen': 3695, 'stray': 3696, 'sweetie': 3697, 'quitting': 3698, 'pageant': 3699, 'ktil': 3700, 'reaching': 3701, 'nicotine': 3702, 'fingernails': 3703, 'yous': 3704, 'juhjuh': 3705, 'compeeeeete': 3706, 'robbed': 3707, 'pickup': 3708, 'bars': 3709, 'mmhm': 3710, 'ohio': 3711, 'important': 3712, 'winner': 3713, 'niece': 3714, 'vera': 3715, 'tailor': 3716, 'ammunition': 3717, 'upstart': 3718, 'teasdale': 3719, 'outrage': 3720, 'runt': 3721, 'gloria': 3722, 'nose': 3723, 'satisfied': 3724, 'whims': 3725, 'tottered': 3726, 'dynasties': 3727, 'rocked': 3728, 'plunged': 3729, 'headlong': 3730, 'chasm': 3731, 'oblivion': 3732, 'owner': 3733, 'yyyess': 3734, 'committees': 3735, 'unwilling': 3736, 'supplied': 3737, 'funds': 3738, 'splendid': 3739, 'spire': 3740, 'romeo': 3741, 'yyyes': 3742, 'toil': 3743, 'loot': 3744, 'pillage': 3745, 'crossed': 3746, 'asgaard': 3747, 'spare': 3748, 'erik': 3749, 'valhalla': 3750, 'gods': 3751, 'decreed': 3752, 'spills': 3753, 'shores': 3754, 'beneath': 3755, 'summon': 3756, 'musicians': 3757, 'tumtumtum': 3758, 'tumtitumtum': 3759, 'blacksmith': 3760, 'ordering': 3761, 'mierzwiak': 3762, 'ruin': 3763, 'gin': 3764, 'thereand': 3765, 'windowi': 3766, 'stairwayi': 3767, 'curtaini': 3768, 'seduction': 3769, 'repugnant': 3770, 'flow': 3771, 'emotions': 3772, 'ideas': 3773, 'form': 3774, 'consistent': 3775, 'maturity': 3776, 'constantly': 3777, 'changing': 3778, 'repulsively': 3779, 'bartlett': 3780, 'hired': 3781, 'map': 3782, 'eraser': 3783, 'erasing': 3784, 'introduced': 3785, 'procedure': 3786, 'wondered': 3787, 'reached': 3788, 'momentarily': 3789, 'unfair': 3790, 'spark': 3791, 'adult': 3792, 'suckered': 3793, 'advertising': 3794, 'rob': 3795, 'carrie': 3796, 'beach': 3797, 'interact': 3798, 'akhmatova': 3799, 'store': 3800, 'paralyzed': 3801, 'nervousness': 3802, 'trespass': 3803, 'ahha': 3804, 'candles': 3805, 'matches': 3806, 'liquor': 3807, 'cabinet': 3808, 'walked': 3809, 'bonfire': 3810, 'outrun': 3811, 'humiliation': 3812, 'disdain': 3813, 'suspected': 3814, 'behaving': 3815, 'waved': 3816, 'giggled': 3817, 'magda': 3818, 'drank': 3819, 'passive': 3820, 'timid': 3821, 'excited': 3822, 'irreverence': 3823, 'gratuitous': 3824, 'raggedy': 3825, 'developed': 3826, 'however': 3827, 'subtleties': 3828, 'nuances': 3829, 'style': 3830, 'mph': 3831, 'began': 3832, 'hitchhike': 3833, 'akin': 3834, 'geological': 3835, 'vast': 3836, 'freely': 3837, 'delicately': 3838, 'blink': 3839, 'embody': 3840, 'rhythms': 3841, 'tribute': 3842, 'cooperated': 3843, 'eliminating': 3844, 'odor': 3845, 'vaginal': 3846, 'products': 3847, 'dew': 3848, 'mist': 3849, 'yoni': 3850, 'yum': 3851, 'tax': 3852, 'writeoff': 3853, 'reside': 3854, 'conditioner': 3855, 'cowgirl': 3856, 'painted': 3857, 'radium': 3858, 'pearl': 3859, 'accepted': 3860, 'invitation': 3861, 'initiated': 3862, 'shaman': 3863, 'aged': 3864, 'principle': 3865, 'confederate': 3866, 'degenerated': 3867, 'warlock': 3868, 'urine': 3869, 'honor': 3870, 'extended': 3871, 'occupancy': 3872, 'sacred': 3873, 'cave': 3874, 'faraway': 3875, 'hills': 3876, 'construct': 3877, 'admiral': 3878, 'hollis': 3879, 'boards': 3880, 'opportunity': 3881, 'shipping': 3882, 'captains': 3883, 'outer': 3884, 'breathe': 3885, 'specialist': 3886, 'represents': 3887, 'spacetime': 3888, 'shortest': 3889, 'distance': 3890, 'meters': 3891, 'log': 3892, 'scale': 3893, 'activate': 3894, 'fought': 3895, 'posted': 3896, 'clark': 3897, 'closest': 3898, 'tower': 3899, 'babel': 3900, 'internal': 3901, 'intense': 3902, 'gravitational': 3903, 'fields': 3904, 'effect': 3905, 'holes': 3906, 'math': 3907, 'beyond': 3908, 'returned': 3909, 'shortly': 3910, 'conserve': 3911, 'oxygen': 3912, 'severely': 3913, 'restrict': 3914, 'activity': 3915, 'surge': 3916, 'similar': 3917, 'clarke': 3918, 'damaged': 3919, 'connection': 3920, 'hallucination': 3921, 'defensive': 3922, 'immune': 3923, 'system': 3924, 'transmission': 3925, 'houston': 3926, 'translation': 3927, 'liberatis': 3928, 'tutemet': 3929, 'foredecks': 3930, 'lifeboat': 3931, 'prep': 3932, 'tanks': 3933, 'explained': 3934, 'quantum': 3935, 'physics': 3936, 'exposure': 3937, 'closer': 3938, 'sec': 3939, 'top': 3940, 'washington': 3941, 'temperature': 3942, 'brooklyn': 3943, 'johnny': 3944, 'staring': 3945, 'swore': 3946, 'surfers': 3947, 'shirts': 3948, 'brad': 3949, 'damone': 3950, 'eighth': 3951, 'grade': 3952, 'deegan': 3953, 'led': 3954, 'zeppelin': 3955, 'stays': 3956, 'plays': 3957, 'recorded': 3958, 'holiday': 3959, 'lessons': 3960, 'applied': 3961, 'habits': 3962, 'jefferson': 3963, 'dare': 3964, 'wanting': 3965, 'slice': 3966, 'guilty': 3967, 'crime': 3968, 'barrels': 3969, 'cap': 3970, 'realized': 3971, 'climb': 3972, 'bowie': 3973, 'knives': 3974, 'blade': 3975, 'easier': 3976, 'rip': 3977, 'backstraps': 3978, 'vietnam': 3979, 'television': 3980, 'sonuvabitch': 3981, 'duh': 3982, 'hickey': 3983, 'role': 3984, 'ammo': 3985, 'ultimate': 3986, 'exit': 3987, 'rhythm': 3988, 'wiggle': 3989, 'appraising': 3990, 'spuds': 3991, 'makenzie': 3992, 'sos': 3993, 'calling': 3994, 'tav': 3995, 'hellllllllp': 3996, 'max': 3997, 'trusting': 3998, 'whoa': 3999, 'smeared': 4000, 'skunk': 4001, 'grocery': 4002, 'stores': 4003, 'maimed': 4004, 'fffuck': 4005, 'bonsai': 4006, 'helllppp': 4007, 'essay': 4008, 'impressive': 4009, 'quietly': 4010, 'worth': 4011, 'trappers': 4012, 'safely': 4013, 'mountain': 4014, 'arguments': 4015, 'premiere': 4016, 'pressed': 4017, 'touch': 4018, 'ambitions': 4019, 'clifford': 4020, 'studio': 4021, 'lawyers': 4022, 'contract': 4023, 'actress': 4024, 'disaster': 4025, 'chopping': 4026, 'serving': 4027, 'platter': 4028, 'farmer': 4029, 'preparing': 4030, 'tenant': 4031, 'mental': 4032, 'illness': 4033, 'elusive': 4034, 'pleased': 4035, 'unrealistic': 4036, 'cured': 4037, 'wrap': 4038, 'declaring': 4039, 'prayers': 4040, 'scripts': 4041, 'publicity': 4042, 'fans': 4043, 'praying': 4044, 'nightmare': 4045, 'answering': 4046, 'beauty': 4047, 'observe': 4048, 'unaware': 4049, 'signs': 4050, 'indicators': 4051, 'trapped': 4052, 'bedeviled': 4053, 'albertus': 4054, 'magnus': 4055, 'cornelius': 4056, 'agrippa': 4057, 'march': 4058, 'hare': 4059, 'favor': 4060, 'canton': 4061, 'missionaries': 4062, 'cure': 4063, 'miraculous': 4064, 'fascinated': 4065, 'fantastic': 4066, 'learning': 4067, 'issue': 4068, 'pride': 4069, 'militia': 4070, 'arriving': 4071, 'quarantine': 4072, 'ugly': 4073, 'pit': 4074, 'companion': 4075, 'pleases': 4076, 'extremities': 4077, 'noone': 4078, 'gorgeous': 4079, 'lake': 4080, 'trailer': 4081, 'campers': 4082, 'drowned': 4083, 'counselors': 4084, 'cowboys': 4085, 'flavor': 4086, 'cream': 4087, 'showoff': 4088, 'bulb': 4089, 'gloomy': 4090, 'mouthtomouth': 4091, 'ruined': 4092, 'appetite': 4093, 'nasty': 4094, 'careless': 4095, 'ned': 4096, 'z': 4097, 'wiped': 4098, 'umhummmmph': 4099, 'counsellor': 4100, 'babes': 4101, 'woods': 4102, 'coincidence': 4103, 'marcie': 4104, 'damocles': 4105, 'lifted': 4106, 'seth': 4107, 'solved': 4108, 'unsolvable': 4109, 'border': 4110, 'whistling': 4111, 'turns': 4112, 'walks': 4113, 'fuller': 4114, 'biblical': 4115, 'names': 4116, 'bible': 4117, 'fooling': 4118, 'implying': 4119, 'scarred': 4120, 'peachy': 4121, 'oyster': 4122, 'rammed': 4123, 'wooden': 4124, 'vampire': 4125, 'vampires': 4126, 'unfortunate': 4127, 'hunkydory': 4128, 'flinging': 4129, 'filling': 4130, 'batthings': 4131, 'fling': 4132, 'carlos': 4133, 'booked': 4134, 'appearance': 4135, 'iii': 4136, 'intro': 4137, 'craft': 4138, 'cookies': 4139, 'smiled': 4140, 'theramini': 4141, 'gasoline': 4142, 'dressing': 4143, 'designed': 4144, 'lieutenant': 4145, 'pods': 4146, 'pushing': 4147, 'buttons': 4148, 'punch': 4149, 'chances': 4150, 'gorignak': 4151, 'piglizard': 4152, 'omega': 4153, 'gwen': 4154, 'simpler': 4155, 'accidently': 4156, 'traded': 4157, 'vox': 4158, 'units': 4159, 'bumped': 4160, 'saturday': 4161, 'convention': 4162, 'technical': 4163, 'observations': 4164, 'sharply': 4165, 'pleasantries': 4166, 'kyle': 4167, 'level': 4168, 'overloads': 4169, 'utility': 4170, 'walkthrough': 4171, 'implosion': 4172, 'reversible': 4173, 'berithium': 4174, 'lava': 4175, 'handholds': 4176, 'othino': 4177, 'ust': 4178, 'oncuont': 4179, 'ot': 4180, 'wouo': 4181, 'oc': 4182, 'oomooooateo': 4183, 'onan': 4184, 'onat': 4185, 'invented': 4186, 'greene': 4187, 'supporting': 4188, 'reconsolidation': 4189, 'defenses': 4190, 'disrepair': 4191, 'cannons': 4192, 'neglected': 4193, 'congress': 4194, 'bankrupt': 4195, 'soldiers': 4196, 'pensions': 4197, 'airlines': 4198, 'jet': 4199, 'develops': 4200, 'mutants': 4201, 'daisy': 4202, 'hookers': 4203, 'bette': 4204, 'porch': 4205, 'flirty': 4206, 'cadillac': 4207, 'minivans': 4208, 'compass': 4209, 'selznick': 4210, 'player': 4211, 'imagination': 4212, 'matters': 4213, 'heightens': 4214, 'tension': 4215, 'adds': 4216, 'wistful': 4217, 'element': 4218, 'sleeping': 4219, 'letterman': 4220, 'karen': 4221, 'pink': 4222, 'toilet': 4223, 'locker': 4224, 'gallons': 4225, 'amidships': 4226, 'starboard': 4227, 'beam': 4228, 'waterline': 4229, 'leak': 4230, 'maureen': 4231, 'northwest': 4232, 'salvage': 4233, 'fees': 4234, 'proposing': 4235, 'blows': 4236, 'repairs': 4237, 'pal': 4238, 'usual': 4239, 'stumble': 4240, 'fortune': 4241, 'equal': 4242, 'greed': 4243, 'paranoia': 4244, 'usually': 4245, 'resulting': 4246, 'homicide': 4247, 'judging': 4248, 'greek': 4249, 'below': 4250, 'reasonable': 4251, 'chain': 4252, 'depressing': 4253, 'satanists': 4254, 'ellis': 4255, 'puts': 4256, 'fastforward': 4257, 'knotts': 4258, 'someplace': 4259, 'forgot': 4260, 'cardigan': 4261, 'sucker': 4262, 'mmph': 4263, 'basic': 4264, 'philosophy': 4265, 'nutshell': 4266, 'oneofkind': 4267, 'rare': 4268, 'butterfly': 4269, 'habitat': 4270, 'snakes': 4271, 'classic': 4272, 'vintage': 4273, 'taxidermy': 4274, 'records': 4275, 'upstairs': 4276, 'creeps': 4277, 'losers': 4278, 'weirdos': 4279, 'total': 4280, 'boner': 4281, 'creatures': 4282, 'elastic': 4283, 'lumbar': 4284, 'alien': 4285, 'autopsy': 4286, 'practically': 4287, 'typical': 4288, 'sports': 4289, 'yaaa': 4290, 'blurry': 4291, 'comforting': 4292, 'samuel': 4293, 'hiring': 4294, 'battle': 4295, 'redbeard': 4296, 'involving': 4297, 'underneath': 4298, 'crank': 4299, 'aerosol': 4300, 'potion': 4301, 'penthouse': 4302, 'pet': 4303, 'unconditionally': 4304, 'submit': 4305, 'request': 4306, 'supervise': 4307, 'honeypot': 4308, 'brewing': 4309, 'blackout': 4310, 'egon': 4311, 'genocidal': 4312, 'madman': 4313, 'painting': 4314, 'uncomfortable': 4315, 'storage': 4316, 'instinct': 4317, 'clown': 4318, 'pot': 4319, 'belly': 4320, 'brink': 4321, 'cashflow': 4322, 'worrying': 4323, 'adjust': 4324, 'streams': 4325, 'solid': 4326, 'cores': 4327, 'shielded': 4328, 'selenium': 4329, 'gozer': 4330, 'california': 4331, 'royce': 4332, 'shaping': 4333, 'tough': 4334, 'doublestandard': 4335, 'quarters': 4336, 'deferential': 4337, 'served': 4338, 'shape': 4339, 'stench': 4340, 'visiting': 4341, 'allwomangs': 4342, 'gambler': 4343, 'conner': 4344, 'numbered': 4345, 'promenade': 4346, 'motherachrist': 4347, 'size': 4348, 'wick': 4349, 'sere': 4350, 'training': 4351, 'administration': 4352, 'ensign': 4353, 'blondell': 4354, 'kathy': 4355, 'concentrating': 4356, 'allotment': 4357, 'tribes': 4358, 'annual': 4359, 'basis': 4360, 'gaius': 4361, 'themis': 4362, 'manto': 4363, 'butchered': 4364, 'fighting': 4365, 'commodus': 4366, 'answered': 4367, 'interrupted': 4368, 'chernobyl': 4369, 'earthworm': 4370, 'moves': 4371, 'audrey': 4372, 'finds': 4373, 'animal': 4374, 'become': 4375, 'somehow': 4376, 'exciting': 4377, 'raymond': 4378, 'au': 4379, 'revoir': 4380, 'lock': 4381, 'mixed': 4382, 'unzip': 4383, 'purse': 4384, 'singleman': 4385, 'luggage': 4386, 'braddock': 4387, 'hanger': 4388, 'drift': 4389, 'midnight': 4390, 'noon': 4391, 'driveway': 4392, 'prying': 4393, 'circumstances': 4394, 'slimy': 4395, 'associate': 4396, 'brokendown': 4397, 'alcoholic': 4398, 'pure': 4399, 'boredom': 4400, 'robinsons': 4401, 'thursday': 4402, 'hungry': 4403, 'carter': 4404, 'classes': 4405, 'belt': 4406, 'grandmother': 4407, 'depends': 4408, 'twoeighty': 4409, 'telegrams': 4410, 'bags': 4411, 'otternschlag': 4412, 'strangers': 4413, 'unfortunately': 4414, 'cancelling': 4415, 'engagement': 4416, 'chosen': 4417, 'jammed': 4418, 'roof': 4419, 'switzerland': 4420, 'clerk': 4421, 'sees': 4422, 'chloroform': 4423, 'headache': 4424, 'amsterdam': 4425, 'appealing': 4426, 'dangerous': 4427, 'eleventh': 4428, 'negotiations': 4429, 'respective': 4430, 'firms': 4431, 'parties': 4432, 'agreed': 4433, 'result': 4434, 'monastery': 4435, 'pray': 4436, 'remarkable': 4437, 'suzette': 4438, 'session': 4439, 'sewedup': 4440, 'louisiana': 4441, 'flip': 4442, 'masculine': 4443, 'paradise': 4444, 'military': 4445, 'africa': 4446, 'climate': 4447, 'prisoner': 4448, 'parole': 4449, 'carried': 4450, 'diphtheria': 4451, 'bacilli': 4452, 'wound': 4453, 'isolated': 4454, 'flaemm': 4455, 'preysing': 4456, 'von': 4457, 'gaigern': 4458, 'discharged': 4459, 'correspondence': 4460, 'travelled': 4461, 'mm': 4462, 'tooth': 4463, 'payoffs': 4464, 'justus': 4465, 'baltimore': 4466, 'horse': 4467, 'delmar': 4468, 'nag': 4469, 'bluebell': 4470, 'recuperating': 4471, 'dropped': 4472, 'nothin': 4473, 'watched': 4474, 'soldier': 4475, 'innocent': 4476, 'gah': 4477, 'lilly': 4478, 'goodlooking': 4479, 'rackets': 4480}\n"
          ]
        }
      ]
    },
    {
      "cell_type": "code",
      "source": [
        "tokenized_questions = tokenizer.texts_to_sequences(questions)\n",
        "maxlen_questions = max([len(x) for x in tokenized_questions])\n",
        "# pad each question with zeros at the end\n",
        "encoder_input_data = pad_sequences(tokenized_questions, \n",
        "                                 maxlen=maxlen_questions,\n",
        "                                 padding='post')\n",
        "tokenized_answers = tokenizer.texts_to_sequences(answers)\n",
        "maxlen_answers = max([len(x) for x in tokenized_answers])\n",
        "# pad each answer with zeros at the end\n",
        "decoder_input_data = pad_sequences(tokenized_answers,   \n",
        "                                   maxlen=maxlen_answers,\n",
        "                                   padding='post')"
      ],
      "metadata": {
        "id": "mL370pTDjRi4"
      },
      "execution_count": null,
      "outputs": []
    },
    {
      "cell_type": "code",
      "source": [
        "# remove the first 'start' word from every answer\n",
        "for i in range(len(tokenized_answers)):\n",
        "    tokenized_answers[i] = tokenized_answers[i][1:]\n",
        "# pad answers with zeros\n",
        "padded_answers = pad_sequences(tokenized_answers, maxlen=maxlen_answers, padding='post')\n"
      ],
      "metadata": {
        "id": "NzWgdsPajUcy"
      },
      "execution_count": null,
      "outputs": []
    },
    {
      "cell_type": "code",
      "source": [
        "# one-hot encoded each word using our vocabulary\n",
        "decoder_output_data = to_categorical(padded_answers, VOCAB_SIZE)"
      ],
      "metadata": {
        "id": "VqGzN6v3eQaz"
      },
      "execution_count": null,
      "outputs": []
    },
    {
      "cell_type": "code",
      "source": [
        "from keras import backend as K\n",
        "from tensorflow.python.keras.layers import Layer\n",
        "\n",
        "def perplexity(y_true, y_pred):\n",
        "\n",
        "    #cross_entropy = K.sparse_categorical_crossentropy(y_true, y_pred)\n",
        "    cross_entropy = K.categorical_crossentropy(y_true, y_pred)\n",
        "    perplexity = K.exp(cross_entropy)\n",
        "    return perplexity"
      ],
      "metadata": {
        "id": "k8DS9TIqGgVl"
      },
      "execution_count": null,
      "outputs": []
    },
    {
      "cell_type": "markdown",
      "source": [
        "# **bidirectional lstm model**"
      ],
      "metadata": {
        "id": "M0426v8RBFj2"
      }
    },
    {
      "cell_type": "code",
      "source": [
        "# create seq2seq bidirectional lstm model\n",
        "HIDDEN_DIM = 200\n",
        "def build_bi_lstm():\n",
        "    # encoder\n",
        "    enc_inputs = Input(shape=(None,))\n",
        "    enc_embedding = Embedding(VOCAB_SIZE, 200, mask_zero=True)(enc_inputs)\n",
        "    enc_outputs, forward_h, forward_c, backward_h, backward_c = Bidirectional(LSTM(HIDDEN_DIM, return_state=True))(enc_embedding)\n",
        "    state_h = Concatenate()([forward_h, backward_h])\n",
        "    state_c = Concatenate()([forward_c, backward_c])\n",
        "    enc_states = [state_h, state_c]\n",
        "    # decoder\n",
        "    dec_inputs = Input(shape=(None,))\n",
        "    dec_embedding = Embedding(VOCAB_SIZE, 200, mask_zero=True)(dec_inputs)\n",
        "    dec_lstm = LSTM(HIDDEN_DIM * 2, return_state=True, return_sequences=True)\n",
        "    dec_outputs, _, _ = dec_lstm(dec_embedding, initial_state=enc_states)\n",
        "    dec_dense = Dense(VOCAB_SIZE, activation='softmax')\n",
        "    output = dec_dense(dec_outputs)\n",
        "    bi_lstm = Model([enc_inputs, dec_inputs], output)\n",
        "    return bi_lstm, enc_inputs, enc_states, dec_inputs, dec_embedding, dec_lstm, dec_dense\n",
        "# summary of the model\n",
        "model = build_bi_lstm()\n",
        "bi_lstm = model[0]\n",
        "bi_lstm.compile(optimizer=tf.optimizers.RMSprop(), loss='categorical_crossentropy', metrics=[perplexity, 'accuracy'])\n",
        "bi_lstm.summary()"
      ],
      "metadata": {
        "colab": {
          "base_uri": "https://localhost:8080/",
          "height": 356
        },
        "id": "N306pm4F56pN",
        "outputId": "634a76a3-3444-49a1-947d-a97428b85997"
      },
      "execution_count": null,
      "outputs": [
        {
          "output_type": "error",
          "ename": "NameError",
          "evalue": "ignored",
          "traceback": [
            "\u001b[0;31m---------------------------------------------------------------------------\u001b[0m",
            "\u001b[0;31mNameError\u001b[0m                                 Traceback (most recent call last)",
            "\u001b[0;32m<ipython-input-2-b6d20bcfe463>\u001b[0m in \u001b[0;36m<module>\u001b[0;34m()\u001b[0m\n\u001b[1;32m     19\u001b[0m     \u001b[0;32mreturn\u001b[0m \u001b[0mbi_lstm\u001b[0m\u001b[0;34m,\u001b[0m \u001b[0menc_inputs\u001b[0m\u001b[0;34m,\u001b[0m \u001b[0menc_states\u001b[0m\u001b[0;34m,\u001b[0m \u001b[0mdec_inputs\u001b[0m\u001b[0;34m,\u001b[0m \u001b[0mdec_embedding\u001b[0m\u001b[0;34m,\u001b[0m \u001b[0mdec_lstm\u001b[0m\u001b[0;34m,\u001b[0m \u001b[0mdec_dense\u001b[0m\u001b[0;34m\u001b[0m\u001b[0;34m\u001b[0m\u001b[0m\n\u001b[1;32m     20\u001b[0m \u001b[0;31m# summary of the model\u001b[0m\u001b[0;34m\u001b[0m\u001b[0;34m\u001b[0m\u001b[0;34m\u001b[0m\u001b[0m\n\u001b[0;32m---> 21\u001b[0;31m \u001b[0mmodel\u001b[0m \u001b[0;34m=\u001b[0m \u001b[0mbuild_bi_lstm\u001b[0m\u001b[0;34m(\u001b[0m\u001b[0;34m)\u001b[0m\u001b[0;34m\u001b[0m\u001b[0;34m\u001b[0m\u001b[0m\n\u001b[0m\u001b[1;32m     22\u001b[0m \u001b[0mbi_lstm\u001b[0m \u001b[0;34m=\u001b[0m \u001b[0mmodel\u001b[0m\u001b[0;34m[\u001b[0m\u001b[0;36m0\u001b[0m\u001b[0;34m]\u001b[0m\u001b[0;34m\u001b[0m\u001b[0;34m\u001b[0m\u001b[0m\n\u001b[1;32m     23\u001b[0m \u001b[0mbi_lstm\u001b[0m\u001b[0;34m.\u001b[0m\u001b[0mcompile\u001b[0m\u001b[0;34m(\u001b[0m\u001b[0moptimizer\u001b[0m\u001b[0;34m=\u001b[0m\u001b[0mtf\u001b[0m\u001b[0;34m.\u001b[0m\u001b[0moptimizers\u001b[0m\u001b[0;34m.\u001b[0m\u001b[0mRMSprop\u001b[0m\u001b[0;34m(\u001b[0m\u001b[0;34m)\u001b[0m\u001b[0;34m,\u001b[0m \u001b[0mloss\u001b[0m\u001b[0;34m=\u001b[0m\u001b[0;34m'categorical_crossentropy'\u001b[0m\u001b[0;34m,\u001b[0m \u001b[0mmetrics\u001b[0m\u001b[0;34m=\u001b[0m\u001b[0;34m[\u001b[0m\u001b[0mperplexity\u001b[0m\u001b[0;34m,\u001b[0m \u001b[0;34m'accuracy'\u001b[0m\u001b[0;34m]\u001b[0m\u001b[0;34m)\u001b[0m\u001b[0;34m\u001b[0m\u001b[0;34m\u001b[0m\u001b[0m\n",
            "\u001b[0;32m<ipython-input-2-b6d20bcfe463>\u001b[0m in \u001b[0;36mbuild_bi_lstm\u001b[0;34m()\u001b[0m\n\u001b[1;32m      3\u001b[0m \u001b[0;32mdef\u001b[0m \u001b[0mbuild_bi_lstm\u001b[0m\u001b[0;34m(\u001b[0m\u001b[0;34m)\u001b[0m\u001b[0;34m:\u001b[0m\u001b[0;34m\u001b[0m\u001b[0;34m\u001b[0m\u001b[0m\n\u001b[1;32m      4\u001b[0m     \u001b[0;31m# encoder\u001b[0m\u001b[0;34m\u001b[0m\u001b[0;34m\u001b[0m\u001b[0;34m\u001b[0m\u001b[0m\n\u001b[0;32m----> 5\u001b[0;31m     \u001b[0menc_inputs\u001b[0m \u001b[0;34m=\u001b[0m \u001b[0mInput\u001b[0m\u001b[0;34m(\u001b[0m\u001b[0mshape\u001b[0m\u001b[0;34m=\u001b[0m\u001b[0;34m(\u001b[0m\u001b[0;32mNone\u001b[0m\u001b[0;34m,\u001b[0m\u001b[0;34m)\u001b[0m\u001b[0;34m)\u001b[0m\u001b[0;34m\u001b[0m\u001b[0;34m\u001b[0m\u001b[0m\n\u001b[0m\u001b[1;32m      6\u001b[0m     \u001b[0menc_embedding\u001b[0m \u001b[0;34m=\u001b[0m \u001b[0mEmbedding\u001b[0m\u001b[0;34m(\u001b[0m\u001b[0mVOCAB_SIZE\u001b[0m\u001b[0;34m,\u001b[0m \u001b[0;36m200\u001b[0m\u001b[0;34m,\u001b[0m \u001b[0mmask_zero\u001b[0m\u001b[0;34m=\u001b[0m\u001b[0;32mTrue\u001b[0m\u001b[0;34m)\u001b[0m\u001b[0;34m(\u001b[0m\u001b[0menc_inputs\u001b[0m\u001b[0;34m)\u001b[0m\u001b[0;34m\u001b[0m\u001b[0;34m\u001b[0m\u001b[0m\n\u001b[1;32m      7\u001b[0m     \u001b[0menc_outputs\u001b[0m\u001b[0;34m,\u001b[0m \u001b[0mforward_h\u001b[0m\u001b[0;34m,\u001b[0m \u001b[0mforward_c\u001b[0m\u001b[0;34m,\u001b[0m \u001b[0mbackward_h\u001b[0m\u001b[0;34m,\u001b[0m \u001b[0mbackward_c\u001b[0m \u001b[0;34m=\u001b[0m \u001b[0mBidirectional\u001b[0m\u001b[0;34m(\u001b[0m\u001b[0mLSTM\u001b[0m\u001b[0;34m(\u001b[0m\u001b[0mHIDDEN_DIM\u001b[0m\u001b[0;34m,\u001b[0m \u001b[0mreturn_state\u001b[0m\u001b[0;34m=\u001b[0m\u001b[0;32mTrue\u001b[0m\u001b[0;34m)\u001b[0m\u001b[0;34m)\u001b[0m\u001b[0;34m(\u001b[0m\u001b[0menc_embedding\u001b[0m\u001b[0;34m)\u001b[0m\u001b[0;34m\u001b[0m\u001b[0;34m\u001b[0m\u001b[0m\n",
            "\u001b[0;31mNameError\u001b[0m: name 'Input' is not defined"
          ]
        }
      ]
    },
    {
      "cell_type": "code",
      "source": [
        "# training the model\n",
        "EPOCHS = 100\n",
        "bi_lstm_all = []\n",
        "bi_lstm_acc = []\n",
        "bi_lstm_lss = []\n",
        "bi_lstm_prp = []\n",
        "batch_sizes = [16]\n",
        "for batch_size in batch_sizes:\n",
        "    print(f'\\nCurrent batch size: {batch_size}')\n",
        "    model = build_bi_lstm()\n",
        "    bi_lstm = model[0]\n",
        "    bi_lstm.compile(optimizer=tf.optimizers.RMSprop(), loss='categorical_crossentropy', metrics=[perplexity, 'accuracy'])\n",
        "    start = time.time()\n",
        "    history = bi_lstm.fit([encoder_input_data, decoder_input_data], decoder_output_data, epochs=EPOCHS, batch_size=batch_size)\n",
        "    stop = time.time()\n",
        "    print(f\"Training time: {stop - start}s\")\n",
        "    bi_lstm.save_weights(f'./bi_lstm_{batch_size}.h5')\n",
        "    acc = history.history.get('accuracy')\n",
        "    bi_lstm_all.append(acc)\n",
        "    print(f'Training accuracy {\"{:.2%}\".format(acc[-1])}')\n",
        "    bi_lstm_acc.append(acc[-1])\n",
        "\n",
        "\n",
        "    prp = history.history.get(perplexity)\n",
        "    bi_lstm_all.append(prp)\n",
        "\n",
        "    \n",
        "    lss = history.history.get('loss')\n",
        "    bi_lstm_all.append(lss)\n",
        "    print(f'Training loss {\"{:.2%}\".format(lss[-1])}')\n",
        "    bi_lstm_lss.append(lss[-1])\n",
        "print('\\nTraining completed!\\n')\n"
      ],
      "metadata": {
        "id": "IQzCi0_WB6Tb"
      },
      "execution_count": null,
      "outputs": []
    },
    {
      "cell_type": "markdown",
      "source": [
        "# **Visualisations**"
      ],
      "metadata": {
        "id": "GKz5u5XeBE-N"
      }
    },
    {
      "cell_type": "code",
      "source": [
        "plt.plot(history.history['accuracy'])\n",
        "plt.plot(history.history['loss'])\n",
        "plt.title('Training Accuracy')\n",
        "plt.ylabel('Training Loss')\n",
        "plt.xlabel('epoch')\n",
        "plt.legend(['Acc', 'Loss'], loc='upper left')\n",
        "plt.show()\n"
      ],
      "metadata": {
        "colab": {
          "base_uri": "https://localhost:8080/",
          "height": 295
        },
        "id": "Fm_5rmhLFKkO",
        "outputId": "18b6ff17-81df-4031-9bbd-aee912f9b331"
      },
      "execution_count": null,
      "outputs": [
        {
          "output_type": "display_data",
          "data": {
            "text/plain": [
              "<Figure size 432x288 with 1 Axes>"
            ],
            "image/png": "[encoded data removed]"
          },
          "metadata": {
            "needs_background": "light"
          }
        }
      ]
    },
    {
      "cell_type": "code",
      "source": [
        "\n",
        "plt.plot(history.history['perplexity'])\n",
        "plt.xlabel('epoch')\n",
        "plt.title('Perplexity')\n",
        "plt.xlim(12,100)\n",
        "plt.ylim(1,1500)\n",
        "plt.show()"
      ],
      "metadata": {
        "colab": {
          "base_uri": "https://localhost:8080/",
          "height": 295
        },
        "id": "B8tOGGqCM2EI",
        "outputId": "db9378db-e3e9-4d21-c036-102170e530f0"
      },
      "execution_count": null,
      "outputs": [
        {
          "output_type": "display_data",
          "data": {
            "text/plain": [
              "<Figure size 432x288 with 1 Axes>"
            ],
            "image/png": "[encoded data removed]"
          },
          "metadata": {
            "needs_background": "light"
          }
        }
      ]
    },
    {
      "cell_type": "markdown",
      "source": [
        "# **Unidirectional LSTM**"
      ],
      "metadata": {
        "id": "lzcSvbE4RK5m"
      }
    },
    {
      "cell_type": "code",
      "source": [
        "# create seq2seq unidirectional lstm model\n",
        "HIDDEN_DIM = 200\n",
        "def build_uni_lstm():\n",
        "    # encoder\n",
        "    enc_inputs = Input(shape=(None,))\n",
        "    enc_embedding = Embedding(VOCAB_SIZE, 200, mask_zero=True)(enc_inputs)\n",
        "    enc_outputs, state_h, state_c = LSTM(HIDDEN_DIM, return_state=True)(enc_embedding)\n",
        "    enc_states = [state_h, state_c]\n",
        "    # decoder\n",
        "    dec_inputs = Input(shape=(None,))\n",
        "    dec_embedding = Embedding(VOCAB_SIZE, 200, mask_zero=True)(dec_inputs)\n",
        "    dec_lstm = LSTM(HIDDEN_DIM, return_state=True, return_sequences=True)\n",
        "    dec_outputs, _, _ = dec_lstm(dec_embedding, initial_state=enc_states)\n",
        "    dec_dense = Dense(VOCAB_SIZE, activation='softmax')\n",
        "    output = dec_dense(dec_outputs)\n",
        "    # seq2seq\n",
        "    uni_lstm = Model([enc_inputs, dec_inputs], output)\n",
        "    return uni_lstm\n",
        "# summary of the model\n",
        "uni_lstm = build_uni_lstm()\n",
        "uni_lstm.compile(optimizer=tf.optimizers.RMSprop(), loss='categorical_crossentropy', metrics=[perplexity, 'accuracy'])\n",
        "uni_lstm.summary()"
      ],
      "metadata": {
        "colab": {
          "base_uri": "https://localhost:8080/"
        },
        "id": "oh_W1ShqREHm",
        "outputId": "de478790-9d5e-4dee-8974-3f25a2e62ba8"
      },
      "execution_count": null,
      "outputs": [
        {
          "output_type": "stream",
          "name": "stdout",
          "text": [
            "Model: \"model\"\n",
            "__________________________________________________________________________________________________\n",
            " Layer (type)                   Output Shape         Param #     Connected to                     \n",
            "==================================================================================================\n",
            " input_1 (InputLayer)           [(None, None)]       0           []                               \n",
            "                                                                                                  \n",
            " input_2 (InputLayer)           [(None, None)]       0           []                               \n",
            "                                                                                                  \n",
            " embedding (Embedding)          (None, None, 200)    896200      ['input_1[0][0]']                \n",
            "                                                                                                  \n",
            " embedding_1 (Embedding)        (None, None, 200)    896200      ['input_2[0][0]']                \n",
            "                                                                                                  \n",
            " lstm (LSTM)                    [(None, 200),        320800      ['embedding[0][0]']              \n",
            "                                 (None, 200),                                                     \n",
            "                                 (None, 200)]                                                     \n",
            "                                                                                                  \n",
            " lstm_1 (LSTM)                  [(None, None, 200),  320800      ['embedding_1[0][0]',            \n",
            "                                 (None, 200),                     'lstm[0][1]',                   \n",
            "                                 (None, 200)]                     'lstm[0][2]']                   \n",
            "                                                                                                  \n",
            " dense (Dense)                  (None, None, 4481)   900681      ['lstm_1[0][0]']                 \n",
            "                                                                                                  \n",
            "==================================================================================================\n",
            "Total params: 3,334,681\n",
            "Trainable params: 3,334,681\n",
            "Non-trainable params: 0\n",
            "__________________________________________________________________________________________________\n"
          ]
        }
      ]
    },
    {
      "cell_type": "code",
      "source": [
        "EPOCHS = 100\n",
        "uni_lstm_all = []\n",
        "uni_lstm_acc = []\n",
        "uni_lstm_lss = []\n",
        "bi_lstm_prp = []\n",
        "batch_sizes = [16]\n",
        "for batch_size in batch_sizes:\n",
        "    print(f'\\nCurrent batch size: {batch_size}')\n",
        "    uni_lstm = build_uni_lstm()\n",
        "    uni_lstm.compile(optimizer=tf.optimizers.RMSprop(), loss='categorical_crossentropy', metrics=[perplexity, 'accuracy'])\n",
        "    history = uni_lstm.fit([encoder_input_data, decoder_input_data], decoder_output_data, epochs=EPOCHS, batch_size=batch_size)\n",
        "    uni_lstm.save_weights(f'./uni_lstm_{batch_size}.h5')\n",
        "    acc = history.history.get('accuracy')\n",
        "    uni_lstm_all.append(acc)\n",
        "    print(f'Training accuracy {\"{:.2%}\".format(acc[-1])}')\n",
        "    uni_lstm_acc.append(acc[-1])\n",
        "\n",
        "    prp = history.history.get(perplexity)\n",
        "    uni_lstm_all.append(prp)\n",
        "\n",
        "    \n",
        "    lss = history.history.get('loss')\n",
        "    uni_lstm_all.append(lss)\n",
        "    print(f'Training loss {\"{:.2%}\".format(lss[-1])}')\n",
        "    uni_lstm_lss.append(lss[-1])\n",
        "\n",
        "\n",
        "print('\\nTraining completed!\\n')\n",
        "\n"
      ],
      "metadata": {
        "colab": {
          "base_uri": "https://localhost:8080/",
          "height": 1000
        },
        "id": "BtiECfeNREKn",
        "outputId": "4e771552-1dd9-4bd2-ef50-122876573776"
      },
      "execution_count": null,
      "outputs": [
        {
          "output_type": "stream",
          "name": "stdout",
          "text": [
            "\n",
            "Current batch size: 16\n",
            "Epoch 1/100\n",
            "176/176 [==============================] - 24s 53ms/step - loss: 0.4204 - perplexity: 8939.9980 - accuracy: 0.1373\n",
            "Epoch 2/100\n",
            "176/176 [==============================] - 9s 52ms/step - loss: 0.3816 - perplexity: 47128.6367 - accuracy: 0.1744\n",
            "Epoch 3/100\n",
            "176/176 [==============================] - 9s 52ms/step - loss: 0.3663 - perplexity: 25519.7461 - accuracy: 0.1923\n",
            "Epoch 4/100\n",
            "176/176 [==============================] - 9s 52ms/step - loss: 0.3558 - perplexity: 259453.4062 - accuracy: 0.2073\n",
            "Epoch 5/100\n",
            "176/176 [==============================] - 9s 51ms/step - loss: 0.3473 - perplexity: 22306.6133 - accuracy: 0.2217\n",
            "Epoch 6/100\n",
            "176/176 [==============================] - 9s 52ms/step - loss: 0.3398 - perplexity: 20635.9688 - accuracy: 0.2335\n",
            "Epoch 7/100\n",
            "176/176 [==============================] - 9s 52ms/step - loss: 0.3335 - perplexity: 19450.3359 - accuracy: 0.2404\n",
            "Epoch 8/100\n",
            "176/176 [==============================] - 9s 51ms/step - loss: 0.3271 - perplexity: 5175.1831 - accuracy: 0.2466\n",
            "Epoch 9/100\n",
            "176/176 [==============================] - 9s 51ms/step - loss: 0.3215 - perplexity: 4990.8540 - accuracy: 0.2545\n",
            "Epoch 10/100\n",
            "176/176 [==============================] - 9s 52ms/step - loss: 0.3154 - perplexity: 4017.6240 - accuracy: 0.2606\n",
            "Epoch 11/100\n",
            "176/176 [==============================] - 9s 52ms/step - loss: 0.3097 - perplexity: 3352.0496 - accuracy: 0.2696\n",
            "Epoch 12/100\n",
            "176/176 [==============================] - 9s 52ms/step - loss: 0.3038 - perplexity: 3842.6819 - accuracy: 0.2767\n",
            "Epoch 13/100\n",
            "176/176 [==============================] - 9s 52ms/step - loss: 0.2983 - perplexity: 2697.3450 - accuracy: 0.2839\n",
            "Epoch 14/100\n",
            "176/176 [==============================] - 9s 52ms/step - loss: 0.2925 - perplexity: 2131.8953 - accuracy: 0.2922\n",
            "Epoch 15/100\n",
            "176/176 [==============================] - 9s 52ms/step - loss: 0.2865 - perplexity: 2344.7871 - accuracy: 0.3000\n",
            "Epoch 16/100\n",
            "176/176 [==============================] - 9s 52ms/step - loss: 0.2805 - perplexity: 1733.3704 - accuracy: 0.3108\n",
            "Epoch 17/100\n",
            "176/176 [==============================] - 9s 52ms/step - loss: 0.2747 - perplexity: 1497.6246 - accuracy: 0.3210\n",
            "Epoch 18/100\n",
            "176/176 [==============================] - 9s 52ms/step - loss: 0.2690 - perplexity: 2612.7607 - accuracy: 0.3317\n",
            "Epoch 19/100\n",
            "176/176 [==============================] - 9s 52ms/step - loss: 0.2635 - perplexity: 1232.5872 - accuracy: 0.3419\n",
            "Epoch 20/100\n",
            "176/176 [==============================] - 9s 52ms/step - loss: 0.2576 - perplexity: 1136.0018 - accuracy: 0.3526\n",
            "Epoch 21/100\n",
            "176/176 [==============================] - 9s 52ms/step - loss: 0.2520 - perplexity: 1018.9371 - accuracy: 0.3634\n",
            "Epoch 22/100\n",
            "176/176 [==============================] - 9s 52ms/step - loss: 0.2461 - perplexity: 1021.4343 - accuracy: 0.3731\n",
            "Epoch 23/100\n",
            "176/176 [==============================] - 9s 53ms/step - loss: 0.2410 - perplexity: 938.6795 - accuracy: 0.3872\n",
            "Epoch 24/100\n",
            "176/176 [==============================] - 9s 52ms/step - loss: 0.2356 - perplexity: 1016.4688 - accuracy: 0.3977\n",
            "Epoch 25/100\n",
            "176/176 [==============================] - 9s 53ms/step - loss: 0.2307 - perplexity: 809.0663 - accuracy: 0.4112\n",
            "Epoch 26/100\n",
            "176/176 [==============================] - 9s 52ms/step - loss: 0.2258 - perplexity: 771.3887 - accuracy: 0.4225\n",
            "Epoch 27/100\n",
            "176/176 [==============================] - 9s 51ms/step - loss: 0.2211 - perplexity: 706.2744 - accuracy: 0.4381\n",
            "Epoch 28/100\n",
            "176/176 [==============================] - 9s 53ms/step - loss: 0.2163 - perplexity: 680.6981 - accuracy: 0.4491\n",
            "Epoch 29/100\n",
            "176/176 [==============================] - 9s 52ms/step - loss: 0.2116 - perplexity: 683.3386 - accuracy: 0.4606\n",
            "Epoch 30/100\n",
            "176/176 [==============================] - 9s 52ms/step - loss: 0.2070 - perplexity: 610.6818 - accuracy: 0.4732\n",
            "Epoch 31/100\n",
            "176/176 [==============================] - 9s 52ms/step - loss: 0.2026 - perplexity: 621.1158 - accuracy: 0.4862\n",
            "Epoch 32/100\n",
            "176/176 [==============================] - 9s 52ms/step - loss: 0.1982 - perplexity: 581.3828 - accuracy: 0.4973\n",
            "Epoch 33/100\n",
            "176/176 [==============================] - 9s 52ms/step - loss: 0.1941 - perplexity: 555.7039 - accuracy: 0.5123\n",
            "Epoch 34/100\n",
            "176/176 [==============================] - 9s 52ms/step - loss: 0.1895 - perplexity: 516.0459 - accuracy: 0.5219\n",
            "Epoch 35/100\n",
            "176/176 [==============================] - 9s 52ms/step - loss: 0.1856 - perplexity: 512.5402 - accuracy: 0.5341\n",
            "Epoch 36/100\n",
            "176/176 [==============================] - 9s 52ms/step - loss: 0.1819 - perplexity: 495.5196 - accuracy: 0.5483\n",
            "Epoch 37/100\n",
            "176/176 [==============================] - 9s 52ms/step - loss: 0.1776 - perplexity: 482.1977 - accuracy: 0.5598\n",
            "Epoch 38/100\n",
            "176/176 [==============================] - 9s 52ms/step - loss: 0.1741 - perplexity: 468.6755 - accuracy: 0.5712\n",
            "Epoch 39/100\n",
            "176/176 [==============================] - 9s 52ms/step - loss: 0.1705 - perplexity: 447.5323 - accuracy: 0.5822\n",
            "Epoch 40/100\n",
            "176/176 [==============================] - 9s 52ms/step - loss: 0.1667 - perplexity: 423.5300 - accuracy: 0.5941\n",
            "Epoch 41/100\n",
            "176/176 [==============================] - 9s 51ms/step - loss: 0.1632 - perplexity: 421.0435 - accuracy: 0.6055\n",
            "Epoch 42/100\n",
            "176/176 [==============================] - 9s 53ms/step - loss: 0.1601 - perplexity: 411.3757 - accuracy: 0.6151\n",
            "Epoch 43/100\n",
            "176/176 [==============================] - 9s 52ms/step - loss: 0.1568 - perplexity: 393.4723 - accuracy: 0.6244\n",
            "Epoch 44/100\n",
            "176/176 [==============================] - 9s 52ms/step - loss: 0.1537 - perplexity: 373.2923 - accuracy: 0.6335\n",
            "Epoch 45/100\n",
            "176/176 [==============================] - 9s 52ms/step - loss: 0.1502 - perplexity: 387.9083 - accuracy: 0.6457\n",
            "Epoch 46/100\n",
            "176/176 [==============================] - 9s 52ms/step - loss: 0.1479 - perplexity: 345.8262 - accuracy: 0.6523\n",
            "Epoch 47/100\n",
            "176/176 [==============================] - 9s 52ms/step - loss: 0.1447 - perplexity: 333.3633 - accuracy: 0.6622\n",
            "Epoch 48/100\n",
            "176/176 [==============================] - 9s 52ms/step - loss: 0.1419 - perplexity: 329.5289 - accuracy: 0.6699\n",
            "Epoch 49/100\n",
            "176/176 [==============================] - 9s 53ms/step - loss: 0.1392 - perplexity: 319.7123 - accuracy: 0.6777\n",
            "Epoch 50/100\n",
            "176/176 [==============================] - 9s 52ms/step - loss: 0.1359 - perplexity: 299.7763 - accuracy: 0.6877\n",
            "Epoch 51/100\n",
            "176/176 [==============================] - 9s 52ms/step - loss: 0.1331 - perplexity: 289.4336 - accuracy: 0.6952\n",
            "Epoch 52/100\n",
            "176/176 [==============================] - 9s 53ms/step - loss: 0.1309 - perplexity: 271.3335 - accuracy: 0.7007\n",
            "Epoch 53/100\n",
            "176/176 [==============================] - 9s 52ms/step - loss: 0.1282 - perplexity: 273.8948 - accuracy: 0.7101\n",
            "Epoch 54/100\n",
            "176/176 [==============================] - 9s 51ms/step - loss: 0.1259 - perplexity: 268.1556 - accuracy: 0.7155\n",
            "Epoch 55/100\n",
            "176/176 [==============================] - 9s 52ms/step - loss: 0.1241 - perplexity: 255.8194 - accuracy: 0.7192\n",
            "Epoch 56/100\n",
            "176/176 [==============================] - 9s 52ms/step - loss: 0.1220 - perplexity: 250.9495 - accuracy: 0.7255\n",
            "Epoch 57/100\n",
            "176/176 [==============================] - 9s 52ms/step - loss: 0.1201 - perplexity: 241.8620 - accuracy: 0.7300\n",
            "Epoch 58/100\n",
            "176/176 [==============================] - 9s 52ms/step - loss: 0.1181 - perplexity: 234.4901 - accuracy: 0.7368\n",
            "Epoch 59/100\n",
            "176/176 [==============================] - 9s 53ms/step - loss: 0.1158 - perplexity: 226.1484 - accuracy: 0.7438\n",
            "Epoch 60/100\n",
            "176/176 [==============================] - 9s 53ms/step - loss: 0.1144 - perplexity: 213.8167 - accuracy: 0.7466\n",
            "Epoch 61/100\n",
            "176/176 [==============================] - 9s 54ms/step - loss: 0.1125 - perplexity: 213.5465 - accuracy: 0.7506\n",
            "Epoch 62/100\n",
            "176/176 [==============================] - 9s 52ms/step - loss: 0.1111 - perplexity: 206.7983 - accuracy: 0.7543\n",
            "Epoch 63/100\n",
            "176/176 [==============================] - 9s 51ms/step - loss: 0.1095 - perplexity: 201.6245 - accuracy: 0.7584\n",
            "Epoch 64/100\n",
            "176/176 [==============================] - 9s 52ms/step - loss: 0.1078 - perplexity: 204.5889 - accuracy: 0.7627\n",
            "Epoch 65/100\n",
            "176/176 [==============================] - 9s 52ms/step - loss: 0.1065 - perplexity: 192.9341 - accuracy: 0.7647\n",
            "Epoch 66/100\n",
            "176/176 [==============================] - 9s 51ms/step - loss: 0.1048 - perplexity: 188.6168 - accuracy: 0.7695\n",
            "Epoch 67/100\n",
            "176/176 [==============================] - 9s 51ms/step - loss: 0.1035 - perplexity: 181.6840 - accuracy: 0.7727\n",
            "Epoch 68/100\n",
            "176/176 [==============================] - 9s 52ms/step - loss: 0.1022 - perplexity: 175.6091 - accuracy: 0.7750\n",
            "Epoch 69/100\n",
            "176/176 [==============================] - 9s 51ms/step - loss: 0.1006 - perplexity: 168.5799 - accuracy: 0.7799\n",
            "Epoch 70/100\n",
            "176/176 [==============================] - 9s 51ms/step - loss: 0.0997 - perplexity: 165.8389 - accuracy: 0.7802\n",
            "Epoch 71/100\n",
            "176/176 [==============================] - 9s 52ms/step - loss: 0.0985 - perplexity: 161.8132 - accuracy: 0.7829\n",
            "Epoch 72/100\n",
            "176/176 [==============================] - 9s 52ms/step - loss: 0.0971 - perplexity: 157.7072 - accuracy: 0.7847\n",
            "Epoch 73/100\n",
            "176/176 [==============================] - 9s 52ms/step - loss: 0.0960 - perplexity: 146.7396 - accuracy: 0.7883\n",
            "Epoch 74/100\n",
            "176/176 [==============================] - 9s 52ms/step - loss: 0.0948 - perplexity: 144.7029 - accuracy: 0.7902\n",
            "Epoch 75/100\n",
            "176/176 [==============================] - 9s 51ms/step - loss: 0.0937 - perplexity: 140.7937 - accuracy: 0.7921\n",
            "Epoch 76/100\n",
            "176/176 [==============================] - 9s 51ms/step - loss: 0.0926 - perplexity: 138.7487 - accuracy: 0.7954\n",
            "Epoch 77/100\n",
            "176/176 [==============================] - 9s 51ms/step - loss: 0.0918 - perplexity: 131.8288 - accuracy: 0.7965\n",
            "Epoch 78/100\n",
            "176/176 [==============================] - 9s 52ms/step - loss: 0.0908 - perplexity: 129.8335 - accuracy: 0.7983\n",
            "Epoch 79/100\n",
            "176/176 [==============================] - 9s 51ms/step - loss: 0.0898 - perplexity: 125.5126 - accuracy: 0.7990\n",
            "Epoch 80/100\n",
            "176/176 [==============================] - 9s 51ms/step - loss: 0.0883 - perplexity: 118.1215 - accuracy: 0.8026\n",
            "Epoch 81/100\n",
            "176/176 [==============================] - 9s 52ms/step - loss: 0.0876 - perplexity: 116.0205 - accuracy: 0.8041\n",
            "Epoch 82/100\n",
            "176/176 [==============================] - 9s 52ms/step - loss: 0.0869 - perplexity: 122.2550 - accuracy: 0.8056\n",
            "Epoch 83/100\n",
            "176/176 [==============================] - 9s 51ms/step - loss: 0.0864 - perplexity: 115.9473 - accuracy: 0.8059\n",
            "Epoch 84/100\n",
            "176/176 [==============================] - 9s 52ms/step - loss: 0.0853 - perplexity: 113.3272 - accuracy: 0.8074\n",
            "Epoch 85/100\n",
            "176/176 [==============================] - 9s 52ms/step - loss: 0.0845 - perplexity: 109.3936 - accuracy: 0.8089\n",
            "Epoch 86/100\n",
            "176/176 [==============================] - 9s 51ms/step - loss: 0.0835 - perplexity: 108.7414 - accuracy: 0.8122\n",
            "Epoch 87/100\n",
            "176/176 [==============================] - 9s 52ms/step - loss: 0.0827 - perplexity: 104.1028 - accuracy: 0.8122\n",
            "Epoch 88/100\n",
            "176/176 [==============================] - 9s 51ms/step - loss: 0.0822 - perplexity: 102.8437 - accuracy: 0.8142\n",
            "Epoch 89/100\n",
            "176/176 [==============================] - 9s 51ms/step - loss: 0.0813 - perplexity: 98.6420 - accuracy: 0.8154\n",
            "Epoch 90/100\n",
            "176/176 [==============================] - 9s 51ms/step - loss: 0.0804 - perplexity: 96.4230 - accuracy: 0.8170\n",
            "Epoch 91/100\n",
            "176/176 [==============================] - 9s 51ms/step - loss: 0.0797 - perplexity: 96.7674 - accuracy: 0.8190\n",
            "Epoch 92/100\n",
            "176/176 [==============================] - 9s 52ms/step - loss: 0.0793 - perplexity: 92.0940 - accuracy: 0.8182\n",
            "Epoch 93/100\n",
            "176/176 [==============================] - 9s 52ms/step - loss: 0.0782 - perplexity: 89.0949 - accuracy: 0.8201\n",
            "Epoch 94/100\n",
            "176/176 [==============================] - 9s 53ms/step - loss: 0.0777 - perplexity: 88.1996 - accuracy: 0.8226\n",
            "Epoch 95/100\n",
            "176/176 [==============================] - 9s 51ms/step - loss: 0.0770 - perplexity: 87.3136 - accuracy: 0.8234\n",
            "Epoch 96/100\n",
            "176/176 [==============================] - 9s 52ms/step - loss: 0.0764 - perplexity: 83.7189 - accuracy: 0.8247\n",
            "Epoch 97/100\n",
            "176/176 [==============================] - 9s 52ms/step - loss: 0.0759 - perplexity: 82.3146 - accuracy: 0.8246\n",
            "Epoch 98/100\n",
            "176/176 [==============================] - 9s 52ms/step - loss: 0.0754 - perplexity: 86.8366 - accuracy: 0.8265\n",
            "Epoch 99/100\n",
            "176/176 [==============================] - 9s 52ms/step - loss: 0.0746 - perplexity: 82.8076 - accuracy: 0.8275\n",
            "Epoch 100/100\n",
            "176/176 [==============================] - 9s 52ms/step - loss: 0.0742 - perplexity: 79.3414 - accuracy: 0.8280\n",
            "Training accuracy 82.80%\n",
            "Training loss 7.42%\n",
            "\n",
            "Training completed!\n",
            "\n"
          ]
        },
        {
          "output_type": "display_data",
          "data": {
            "text/plain": [
              "<Figure size 576x360 with 1 Axes>"
            ],
            "image/png": "[encoded data removed]"
          },
          "metadata": {
            "needs_background": "light"
          }
        }
      ]
    },
    {
      "cell_type": "code",
      "source": [
        ""
      ],
      "metadata": {
        "id": "Jxn_OpUcRENy"
      },
      "execution_count": null,
      "outputs": []
    },
    {
      "cell_type": "code",
      "source": [
        ""
      ],
      "metadata": {
        "id": "fH9VE2RMREP5"
      },
      "execution_count": null,
      "outputs": []
    },
    {
      "cell_type": "markdown",
      "source": [
        "# **Bidirectional GRU**"
      ],
      "metadata": {
        "id": "P2j6nbUoWcjD"
      }
    },
    {
      "cell_type": "code",
      "source": [
        "# create seq2seq bidirectional gru model\n",
        "HIDDEN_DIM = 200\n",
        "def build_bi_gru():\n",
        "    # encoder\n",
        "    enc_inputs = Input(shape=(None,))\n",
        "    enc_embedding = Embedding(VOCAB_SIZE, 200, mask_zero=True)(enc_inputs)\n",
        "    enc_outputs, state_h = GRU(HIDDEN_DIM, return_state=True)(enc_embedding)\n",
        "    # decoder\n",
        "    dec_inputs = Input(shape=(None,))\n",
        "    dec_embedding = Embedding(VOCAB_SIZE, 200, mask_zero=True)(dec_inputs)\n",
        "    dec_gru = GRU(HIDDEN_DIM, return_state=True, return_sequences=True)\n",
        "    dec_outputs, _ = dec_gru(dec_embedding, initial_state=state_h)\n",
        "    dec_dense = Dense(VOCAB_SIZE, activation='softmax')\n",
        "    output = dec_dense(dec_outputs)\n",
        "    # seq2seq\n",
        "    bi_gru = Model([enc_inputs, dec_inputs], output)\n",
        "    return bi_gru\n",
        "# summary of the model\n",
        "bi_gru = build_bi_gru()\n",
        "bi_gru.compile(optimizer=tf.optimizers.RMSprop(), loss='categorical_crossentropy', metrics=[perplexity, 'accuracy'])\n",
        "bi_gru.summary()"
      ],
      "metadata": {
        "colab": {
          "base_uri": "https://localhost:8080/"
        },
        "id": "TVehfUPlRESc",
        "outputId": "47aea14a-796f-4e16-b214-c983c298f4bb"
      },
      "execution_count": null,
      "outputs": [
        {
          "output_type": "stream",
          "name": "stdout",
          "text": [
            "Model: \"model\"\n",
            "__________________________________________________________________________________________________\n",
            " Layer (type)                   Output Shape         Param #     Connected to                     \n",
            "==================================================================================================\n",
            " input_1 (InputLayer)           [(None, None)]       0           []                               \n",
            "                                                                                                  \n",
            " input_2 (InputLayer)           [(None, None)]       0           []                               \n",
            "                                                                                                  \n",
            " embedding (Embedding)          (None, None, 200)    896200      ['input_1[0][0]']                \n",
            "                                                                                                  \n",
            " embedding_1 (Embedding)        (None, None, 200)    896200      ['input_2[0][0]']                \n",
            "                                                                                                  \n",
            " gru (GRU)                      [(None, 200),        241200      ['embedding[0][0]']              \n",
            "                                 (None, 200)]                                                     \n",
            "                                                                                                  \n",
            " gru_1 (GRU)                    [(None, None, 200),  241200      ['embedding_1[0][0]',            \n",
            "                                 (None, 200)]                     'gru[0][1]']                    \n",
            "                                                                                                  \n",
            " dense (Dense)                  (None, None, 4481)   900681      ['gru_1[0][0]']                  \n",
            "                                                                                                  \n",
            "==================================================================================================\n",
            "Total params: 3,175,481\n",
            "Trainable params: 3,175,481\n",
            "Non-trainable params: 0\n",
            "__________________________________________________________________________________________________\n"
          ]
        }
      ]
    },
    {
      "cell_type": "code",
      "source": [
        "# training the model\n",
        "EPOCHS = 100\n",
        "bi_gru_all = []\n",
        "bi_gru_acc = []\n",
        "bi_gru_lss = []\n",
        "bi_gru_prp = []\n",
        "batch_sizes = [16]\n",
        "for batch_size in batch_sizes:\n",
        "    print(f'\\nCurrent batch size: {batch_size}')\n",
        "    bi_gru = build_bi_gru()\n",
        "    bi_gru.compile(optimizer=tf.optimizers.RMSprop(), loss='categorical_crossentropy', metrics=[perplexity, 'accuracy'])\n",
        "    start = time.time()\n",
        "    history = bi_gru.fit([encoder_input_data, decoder_input_data], decoder_output_data, epochs=EPOCHS, batch_size=batch_size)\n",
        "    stop = time.time()\n",
        "    print(f\"Training time: {stop - start}s\")\n",
        "    bi_gru.save_weights(f'./bi_gru_{batch_size}.h5')\n",
        "    acc = history.history.get('accuracy')\n",
        "    bi_gru_all.append(acc)\n",
        "    print(f'Training accuracy {\"{:.2%}\".format(acc[-1])}')\n",
        "    bi_gru_acc.append(acc[-1])\n",
        "\n",
        "    prp = history.history.get(perplexity)\n",
        "    bi_gru_all.append(prp)\n",
        "\n",
        "    \n",
        "    lss = history.history.get('loss')\n",
        "    bi_gru_all.append(lss)\n",
        "    print(f'Training loss {\"{:.2%}\".format(lss[-1])}')\n",
        "    bi_gru_lss.append(lss[-1])\n",
        "\n",
        "\n",
        "\n",
        "\n",
        "print('\\nTraining completed!\\n')"
      ],
      "metadata": {
        "colab": {
          "base_uri": "https://localhost:8080/"
        },
        "id": "HHlwelUpREU1",
        "outputId": "ebbf8530-988d-49bc-edee-68e8930bced0"
      },
      "execution_count": null,
      "outputs": [
        {
          "output_type": "stream",
          "name": "stdout",
          "text": [
            "\n",
            "Current batch size: 16\n",
            "Epoch 1/100\n",
            "176/176 [==============================] - 15s 42ms/step - loss: 0.4198 - perplexity: 15781.8037 - accuracy: 0.1549\n",
            "Epoch 2/100\n",
            "176/176 [==============================] - 7s 41ms/step - loss: 0.3713 - perplexity: 8300.5020 - accuracy: 0.1923\n",
            "Epoch 3/100\n",
            "176/176 [==============================] - 7s 42ms/step - loss: 0.3560 - perplexity: 5647.4312 - accuracy: 0.2181\n",
            "Epoch 4/100\n",
            "176/176 [==============================] - 8s 43ms/step - loss: 0.3462 - perplexity: 4762.9326 - accuracy: 0.2319\n",
            "Epoch 5/100\n",
            "176/176 [==============================] - 8s 43ms/step - loss: 0.3386 - perplexity: 4136.6001 - accuracy: 0.2406\n",
            "Epoch 6/100\n",
            "176/176 [==============================] - 7s 42ms/step - loss: 0.3318 - perplexity: 3809.0117 - accuracy: 0.2494\n",
            "Epoch 7/100\n",
            "176/176 [==============================] - 7s 42ms/step - loss: 0.3251 - perplexity: 3355.1404 - accuracy: 0.2570\n",
            "Epoch 8/100\n",
            "176/176 [==============================] - 7s 42ms/step - loss: 0.3185 - perplexity: 3012.2297 - accuracy: 0.2646\n",
            "Epoch 9/100\n",
            "176/176 [==============================] - 8s 43ms/step - loss: 0.3120 - perplexity: 2702.8501 - accuracy: 0.2729\n",
            "Epoch 10/100\n",
            "176/176 [==============================] - 7s 42ms/step - loss: 0.3060 - perplexity: 2398.8313 - accuracy: 0.2794\n",
            "Epoch 11/100\n",
            "176/176 [==============================] - 7s 42ms/step - loss: 0.2995 - perplexity: 2183.3135 - accuracy: 0.2877\n",
            "Epoch 12/100\n",
            "176/176 [==============================] - 7s 43ms/step - loss: 0.2933 - perplexity: 1970.7932 - accuracy: 0.2969\n",
            "Epoch 13/100\n",
            "176/176 [==============================] - 7s 42ms/step - loss: 0.2866 - perplexity: 1701.1852 - accuracy: 0.3067\n",
            "Epoch 14/100\n",
            "176/176 [==============================] - 7s 42ms/step - loss: 0.2807 - perplexity: 1553.9751 - accuracy: 0.3168\n",
            "Epoch 15/100\n",
            "176/176 [==============================] - 7s 42ms/step - loss: 0.2741 - perplexity: 1378.7450 - accuracy: 0.3247\n",
            "Epoch 16/100\n",
            "176/176 [==============================] - 7s 42ms/step - loss: 0.2679 - perplexity: 1228.0759 - accuracy: 0.3371\n",
            "Epoch 17/100\n",
            "176/176 [==============================] - 7s 42ms/step - loss: 0.2614 - perplexity: 1139.2957 - accuracy: 0.3480\n",
            "Epoch 18/100\n",
            "176/176 [==============================] - 7s 42ms/step - loss: 0.2547 - perplexity: 997.5374 - accuracy: 0.3612\n",
            "Epoch 19/100\n",
            "176/176 [==============================] - 7s 42ms/step - loss: 0.2486 - perplexity: 933.1908 - accuracy: 0.3755\n",
            "Epoch 20/100\n",
            "176/176 [==============================] - 7s 42ms/step - loss: 0.2420 - perplexity: 855.1793 - accuracy: 0.3896\n",
            "Epoch 21/100\n",
            "176/176 [==============================] - 8s 43ms/step - loss: 0.2359 - perplexity: 818.3995 - accuracy: 0.4042\n",
            "Epoch 22/100\n",
            "176/176 [==============================] - 7s 43ms/step - loss: 0.2294 - perplexity: 747.8011 - accuracy: 0.4197\n",
            "Epoch 23/100\n",
            "176/176 [==============================] - 8s 43ms/step - loss: 0.2234 - perplexity: 698.5850 - accuracy: 0.4351\n",
            "Epoch 24/100\n",
            "176/176 [==============================] - 7s 42ms/step - loss: 0.2174 - perplexity: 657.1483 - accuracy: 0.4509\n",
            "Epoch 25/100\n",
            "176/176 [==============================] - 8s 43ms/step - loss: 0.2115 - perplexity: 616.2537 - accuracy: 0.4662\n",
            "Epoch 26/100\n",
            "176/176 [==============================] - 7s 42ms/step - loss: 0.2057 - perplexity: 574.7988 - accuracy: 0.4828\n",
            "Epoch 27/100\n",
            "176/176 [==============================] - 7s 42ms/step - loss: 0.2004 - perplexity: 560.2905 - accuracy: 0.4964\n",
            "Epoch 28/100\n",
            "176/176 [==============================] - 7s 42ms/step - loss: 0.1947 - perplexity: 520.6044 - accuracy: 0.5130\n",
            "Epoch 29/100\n",
            "176/176 [==============================] - 7s 42ms/step - loss: 0.1894 - perplexity: 496.6075 - accuracy: 0.5278\n",
            "Epoch 30/100\n",
            "176/176 [==============================] - 7s 42ms/step - loss: 0.1845 - perplexity: 488.0700 - accuracy: 0.5454\n",
            "Epoch 31/100\n",
            "176/176 [==============================] - 7s 42ms/step - loss: 0.1795 - perplexity: 470.2596 - accuracy: 0.5603\n",
            "Epoch 32/100\n",
            "176/176 [==============================] - 7s 42ms/step - loss: 0.1747 - perplexity: 467.8082 - accuracy: 0.5737\n",
            "Epoch 33/100\n",
            "176/176 [==============================] - 7s 42ms/step - loss: 0.1704 - perplexity: 456.5514 - accuracy: 0.5881\n",
            "Epoch 34/100\n",
            "176/176 [==============================] - 7s 42ms/step - loss: 0.1661 - perplexity: 455.1090 - accuracy: 0.6026\n",
            "Epoch 35/100\n",
            "176/176 [==============================] - 7s 42ms/step - loss: 0.1620 - perplexity: 458.3474 - accuracy: 0.6161\n",
            "Epoch 36/100\n",
            "176/176 [==============================] - 7s 42ms/step - loss: 0.1583 - perplexity: 465.7121 - accuracy: 0.6292\n",
            "Epoch 37/100\n",
            "176/176 [==============================] - 8s 43ms/step - loss: 0.1547 - perplexity: 465.3748 - accuracy: 0.6405\n",
            "Epoch 38/100\n",
            "176/176 [==============================] - 7s 42ms/step - loss: 0.1511 - perplexity: 474.9049 - accuracy: 0.6554\n",
            "Epoch 39/100\n",
            "176/176 [==============================] - 7s 42ms/step - loss: 0.1480 - perplexity: 474.5846 - accuracy: 0.6657\n",
            "Epoch 40/100\n",
            "176/176 [==============================] - 7s 42ms/step - loss: 0.1453 - perplexity: 488.2755 - accuracy: 0.6751\n",
            "Epoch 41/100\n",
            "176/176 [==============================] - 7s 42ms/step - loss: 0.1424 - perplexity: 495.1805 - accuracy: 0.6844\n",
            "Epoch 42/100\n",
            "176/176 [==============================] - 7s 42ms/step - loss: 0.1396 - perplexity: 507.7677 - accuracy: 0.6934\n",
            "Epoch 43/100\n",
            "176/176 [==============================] - 7s 41ms/step - loss: 0.1368 - perplexity: 503.9264 - accuracy: 0.7032\n",
            "Epoch 44/100\n",
            "176/176 [==============================] - 8s 43ms/step - loss: 0.1347 - perplexity: 509.8905 - accuracy: 0.7092\n",
            "Epoch 45/100\n",
            "176/176 [==============================] - 7s 42ms/step - loss: 0.1321 - perplexity: 510.3536 - accuracy: 0.7178\n",
            "Epoch 46/100\n",
            "176/176 [==============================] - 7s 42ms/step - loss: 0.1300 - perplexity: 521.8961 - accuracy: 0.7250\n",
            "Epoch 47/100\n",
            "176/176 [==============================] - 7s 42ms/step - loss: 0.1280 - perplexity: 503.1658 - accuracy: 0.7302\n",
            "Epoch 48/100\n",
            "176/176 [==============================] - 7s 42ms/step - loss: 0.1258 - perplexity: 504.9891 - accuracy: 0.7367\n",
            "Epoch 49/100\n",
            "176/176 [==============================] - 7s 42ms/step - loss: 0.1235 - perplexity: 485.5918 - accuracy: 0.7431\n",
            "Epoch 50/100\n",
            "176/176 [==============================] - 7s 42ms/step - loss: 0.1217 - perplexity: 481.5581 - accuracy: 0.7481\n",
            "Epoch 51/100\n",
            "176/176 [==============================] - 8s 43ms/step - loss: 0.1200 - perplexity: 472.8163 - accuracy: 0.7526\n",
            "Epoch 52/100\n",
            "176/176 [==============================] - 7s 42ms/step - loss: 0.1183 - perplexity: 461.8455 - accuracy: 0.7565\n",
            "Epoch 53/100\n",
            "176/176 [==============================] - 7s 42ms/step - loss: 0.1165 - perplexity: 454.2749 - accuracy: 0.7625\n",
            "Epoch 54/100\n",
            "176/176 [==============================] - 7s 42ms/step - loss: 0.1147 - perplexity: 432.9579 - accuracy: 0.7648\n",
            "Epoch 55/100\n",
            "176/176 [==============================] - 8s 43ms/step - loss: 0.1132 - perplexity: 421.4586 - accuracy: 0.7683\n",
            "Epoch 56/100\n",
            "176/176 [==============================] - 7s 42ms/step - loss: 0.1119 - perplexity: 415.5055 - accuracy: 0.7723\n",
            "Epoch 57/100\n",
            "176/176 [==============================] - 7s 42ms/step - loss: 0.1102 - perplexity: 395.1007 - accuracy: 0.7742\n",
            "Epoch 58/100\n",
            "176/176 [==============================] - 8s 43ms/step - loss: 0.1088 - perplexity: 380.9915 - accuracy: 0.7786\n",
            "Epoch 59/100\n",
            "176/176 [==============================] - 8s 43ms/step - loss: 0.1074 - perplexity: 371.4853 - accuracy: 0.7793\n",
            "Epoch 60/100\n",
            "176/176 [==============================] - 7s 42ms/step - loss: 0.1063 - perplexity: 355.9749 - accuracy: 0.7824\n",
            "Epoch 61/100\n",
            "176/176 [==============================] - 7s 42ms/step - loss: 0.1050 - perplexity: 348.3000 - accuracy: 0.7848\n",
            "Epoch 62/100\n",
            "176/176 [==============================] - 7s 42ms/step - loss: 0.1035 - perplexity: 338.2237 - accuracy: 0.7887\n",
            "Epoch 63/100\n",
            "176/176 [==============================] - 7s 42ms/step - loss: 0.1021 - perplexity: 313.2460 - accuracy: 0.7899\n",
            "Epoch 64/100\n",
            "176/176 [==============================] - 7s 42ms/step - loss: 0.1009 - perplexity: 299.1174 - accuracy: 0.7928\n",
            "Epoch 65/100\n",
            "176/176 [==============================] - 7s 42ms/step - loss: 0.0997 - perplexity: 291.7352 - accuracy: 0.7949\n",
            "Epoch 66/100\n",
            "176/176 [==============================] - 7s 42ms/step - loss: 0.0992 - perplexity: 287.3156 - accuracy: 0.7949\n",
            "Epoch 67/100\n",
            "176/176 [==============================] - 7s 42ms/step - loss: 0.0976 - perplexity: 268.6867 - accuracy: 0.7985\n",
            "Epoch 68/100\n",
            "176/176 [==============================] - 8s 43ms/step - loss: 0.0967 - perplexity: 260.3737 - accuracy: 0.8004\n",
            "Epoch 69/100\n",
            "176/176 [==============================] - 7s 42ms/step - loss: 0.0955 - perplexity: 251.2495 - accuracy: 0.8010\n",
            "Epoch 70/100\n",
            "176/176 [==============================] - 7s 42ms/step - loss: 0.0949 - perplexity: 249.7287 - accuracy: 0.8032\n",
            "Epoch 71/100\n",
            "176/176 [==============================] - 7s 42ms/step - loss: 0.0940 - perplexity: 239.4181 - accuracy: 0.8056\n",
            "Epoch 72/100\n",
            "176/176 [==============================] - 7s 42ms/step - loss: 0.0931 - perplexity: 235.6911 - accuracy: 0.8057\n",
            "Epoch 73/100\n",
            "176/176 [==============================] - 7s 42ms/step - loss: 0.0925 - perplexity: 226.0216 - accuracy: 0.8064\n",
            "Epoch 74/100\n",
            "176/176 [==============================] - 8s 43ms/step - loss: 0.0915 - perplexity: 222.0457 - accuracy: 0.8085\n",
            "Epoch 75/100\n",
            "176/176 [==============================] - 8s 43ms/step - loss: 0.0906 - perplexity: 213.6167 - accuracy: 0.8089\n",
            "Epoch 76/100\n",
            "176/176 [==============================] - 7s 42ms/step - loss: 0.0901 - perplexity: 203.9221 - accuracy: 0.8096\n",
            "Epoch 77/100\n",
            "176/176 [==============================] - 7s 43ms/step - loss: 0.0893 - perplexity: 201.7022 - accuracy: 0.8120\n",
            "Epoch 78/100\n",
            "176/176 [==============================] - 7s 42ms/step - loss: 0.0888 - perplexity: 197.5564 - accuracy: 0.8114\n",
            "Epoch 79/100\n",
            "176/176 [==============================] - 7s 42ms/step - loss: 0.0880 - perplexity: 185.6793 - accuracy: 0.8128\n",
            "Epoch 80/100\n",
            "176/176 [==============================] - 7s 41ms/step - loss: 0.0876 - perplexity: 185.2655 - accuracy: 0.8132\n",
            "Epoch 81/100\n",
            "176/176 [==============================] - 7s 42ms/step - loss: 0.0869 - perplexity: 181.7722 - accuracy: 0.8134\n",
            "Epoch 82/100\n",
            "176/176 [==============================] - 8s 43ms/step - loss: 0.0865 - perplexity: 175.6607 - accuracy: 0.8151\n",
            "Epoch 83/100\n",
            "176/176 [==============================] - 7s 42ms/step - loss: 0.0859 - perplexity: 167.3687 - accuracy: 0.8150\n",
            "Epoch 84/100\n",
            "176/176 [==============================] - 7s 42ms/step - loss: 0.0853 - perplexity: 163.7688 - accuracy: 0.8152\n",
            "Epoch 85/100\n",
            "176/176 [==============================] - 7s 42ms/step - loss: 0.0848 - perplexity: 167.2402 - accuracy: 0.8169\n",
            "Epoch 86/100\n",
            "176/176 [==============================] - 7s 42ms/step - loss: 0.0842 - perplexity: 161.3754 - accuracy: 0.8164\n",
            "Epoch 87/100\n",
            "176/176 [==============================] - 7s 42ms/step - loss: 0.0839 - perplexity: 158.7530 - accuracy: 0.8178\n",
            "Epoch 88/100\n",
            "176/176 [==============================] - 7s 42ms/step - loss: 0.0832 - perplexity: 150.2206 - accuracy: 0.8178\n",
            "Epoch 89/100\n",
            "176/176 [==============================] - 7s 42ms/step - loss: 0.0830 - perplexity: 153.0564 - accuracy: 0.8186\n",
            "Epoch 90/100\n",
            "176/176 [==============================] - 7s 42ms/step - loss: 0.0825 - perplexity: 145.2187 - accuracy: 0.8196\n",
            "Epoch 91/100\n",
            "176/176 [==============================] - 7s 42ms/step - loss: 0.0822 - perplexity: 147.1636 - accuracy: 0.8202\n",
            "Epoch 92/100\n",
            "176/176 [==============================] - 8s 43ms/step - loss: 0.0817 - perplexity: 143.6255 - accuracy: 0.8206\n",
            "Epoch 93/100\n",
            "176/176 [==============================] - 8s 43ms/step - loss: 0.0818 - perplexity: 140.6401 - accuracy: 0.8198\n",
            "Epoch 94/100\n",
            "176/176 [==============================] - 7s 42ms/step - loss: 0.0812 - perplexity: 143.6852 - accuracy: 0.8207\n",
            "Epoch 95/100\n",
            "176/176 [==============================] - 7s 42ms/step - loss: 0.0808 - perplexity: 136.8638 - accuracy: 0.8217\n",
            "Epoch 96/100\n",
            "176/176 [==============================] - 7s 42ms/step - loss: 0.0805 - perplexity: 134.1462 - accuracy: 0.8213\n",
            "Epoch 97/100\n",
            "176/176 [==============================] - 7s 42ms/step - loss: 0.0803 - perplexity: 137.8983 - accuracy: 0.8216\n",
            "Epoch 98/100\n",
            "176/176 [==============================] - 7s 42ms/step - loss: 0.0798 - perplexity: 132.7222 - accuracy: 0.8232\n",
            "Epoch 99/100\n",
            "176/176 [==============================] - 8s 43ms/step - loss: 0.0793 - perplexity: 130.0819 - accuracy: 0.8242\n",
            "Epoch 100/100\n",
            "176/176 [==============================] - 7s 42ms/step - loss: 0.0792 - perplexity: 130.8057 - accuracy: 0.8232\n",
            "Training time: 755.0644345283508s\n",
            "Training accuracy 82.32%\n",
            "Training loss 7.92%\n",
            "\n",
            "Training completed!\n",
            "\n"
          ]
        }
      ]
    },
    {
      "cell_type": "markdown",
      "source": [
        "# **Unidirectional GRU**"
      ],
      "metadata": {
        "id": "JraatwH5MjR2"
      }
    },
    {
      "cell_type": "code",
      "source": [
        "# create seq2seq unidirectional gru model\n",
        "HIDDEN_DIM = 200\n",
        "def build_uni_gru():\n",
        "    # encoder\n",
        "    enc_inputs = Input(shape=(None,))\n",
        "    enc_embedding = Embedding(VOCAB_SIZE, 200, mask_zero=True)(enc_inputs)\n",
        "    enc_outputs, state_h = GRU(HIDDEN_DIM, return_state=True)(enc_embedding)\n",
        "    # decoder\n",
        "    dec_inputs = Input(shape=(None,))\n",
        "    dec_embedding = Embedding(VOCAB_SIZE, 200, mask_zero=True)(dec_inputs)\n",
        "    dec_gru = GRU(HIDDEN_DIM, return_state=True, return_sequences=True)\n",
        "    dec_outputs, _ = dec_gru(dec_embedding, initial_state=state_h)\n",
        "    dec_dense = Dense(VOCAB_SIZE, activation='sigmoid')\n",
        "    output = dec_dense(dec_outputs)\n",
        "    # seq2seq\n",
        "    uni_gru = Model([enc_inputs, dec_inputs], output)\n",
        "    return uni_gru\n",
        "# summary of the model\n",
        "uni_gru = build_uni_gru()\n",
        "uni_gru.compile(optimizer=tf.optimizers.RMSprop(), loss='categorical_crossentropy', metrics=['accuracy'])\n",
        "uni_gru.summary()"
      ],
      "metadata": {
        "id": "zarOgSA5MeDg"
      },
      "execution_count": null,
      "outputs": []
    },
    {
      "cell_type": "code",
      "source": [
        "# training the model\n",
        "EPOCHS = 50\n",
        "uni_gru_all = []\n",
        "uni_gru_acc = []\n",
        "batch_sizes = [16]\n",
        "for batch_size in batch_sizes:\n",
        "    print(f'\\nCurrent batch size: {batch_size}')\n",
        "    start = time.time()\n",
        "    uni_gru = build_uni_gru()\n",
        "    uni_gru.compile(optimizer=tf.optimizers.RMSprop(), loss='categorical_crossentropy', metrics=['accuracy'])\n",
        "    history = uni_gru.fit([encoder_input_data, decoder_input_data], decoder_output_data, epochs=EPOCHS, batch_size=batch_size)\n",
        "    # Model saving with spesific batch size\n",
        "    uni_gru.save_weights(f'./uni_gru_{batch_size}.h5')\n",
        "    acc = history.history.get('accuracy')\n",
        "    uni_gru_all.append(acc)\n",
        "    print(f'Training accuracy {\"{:.2%}\".format(acc[-1])}')\n",
        "    uni_gru_acc.append(acc[-1])\n",
        "    stop = time.time()\n",
        "    print(f\"Training time: {stop - start}s\")\n",
        "print('\\nTraining completed!\\n')\n",
        "\n",
        "# plot accuracy with diffrent batch sizes\n",
        "plt.figure(figsize=(8, 5))\n",
        "plt.title('accuracy evolution vs batch size')\n",
        "plt.xlabel('batch size')\n",
        "plt.ylabel('accuracy')\n",
        "plt.plot(batch_sizes, uni_gru_acc)\n",
        "plt.show()"
      ],
      "metadata": {
        "id": "EcQ2jVPmMikf"
      },
      "execution_count": null,
      "outputs": []
    },
    {
      "cell_type": "markdown",
      "source": [
        "# **Visualizations -2**"
      ],
      "metadata": {
        "id": "gbEbnN1oX08d"
      }
    },
    {
      "cell_type": "code",
      "source": [
        "plt.plot(history.history['accuracy'])\n",
        "plt.plot(history.history['loss'])\n",
        "plt.title('Training Accuracy')\n",
        "plt.ylabel('Training Loss')\n",
        "plt.xlabel('epoch')\n",
        "plt.legend(['Acc', 'Loss'], loc='upper left')\n",
        "plt.show()"
      ],
      "metadata": {
        "colab": {
          "base_uri": "https://localhost:8080/",
          "height": 295
        },
        "id": "pI60DEvoREXp",
        "outputId": "7199273d-e470-40fc-b4e8-dbc5a3428b18"
      },
      "execution_count": null,
      "outputs": [
        {
          "output_type": "display_data",
          "data": {
            "text/plain": [
              "<Figure size 432x288 with 1 Axes>"
            ],
            "image/png": "[encoded data removed]"
          },
          "metadata": {
            "needs_background": "light"
          }
        }
      ]
    },
    {
      "cell_type": "code",
      "source": [
        "\n",
        "plt.plot(history.history['perplexity'])\n",
        "plt.xlabel('epoch')\n",
        "plt.title('Perplexity')\n",
        "plt.xlim(12,100)\n",
        "plt.ylim(1,1500)\n",
        "plt.show()"
      ],
      "metadata": {
        "colab": {
          "base_uri": "https://localhost:8080/",
          "height": 295
        },
        "id": "i4TD8n60X94R",
        "outputId": "3b2431d5-c7e0-4ce5-a891-983af1518961"
      },
      "execution_count": null,
      "outputs": [
        {
          "output_type": "display_data",
          "data": {
            "text/plain": [
              "<Figure size 432x288 with 1 Axes>"
            ],
            "image/png": "[encoded data removed]"
          },
          "metadata": {
            "needs_background": "light"
          }
        }
      ]
    },
    {
      "cell_type": "markdown",
      "source": [
        "# **Plotting the model**"
      ],
      "metadata": {
        "id": "YoTpo966Li7-"
      }
    },
    {
      "cell_type": "code",
      "source": [
        "from keras.utils.vis_utils import plot_model\n",
        "plot_model(bi_lstm, to_file='model_plot.png', show_shapes=True, show_layer_names=True,show_layer_activations= True) "
      ],
      "metadata": {
        "colab": {
          "base_uri": "https://localhost:8080/",
          "height": 200
        },
        "id": "Mwk0mYHJAu6U",
        "outputId": "41a07542-d9b6-42fe-83be-2a7d430ee815"
      },
      "execution_count": 1,
      "outputs": [
        {
          "output_type": "error",
          "ename": "NameError",
          "evalue": "ignored",
          "traceback": [
            "\u001b[0;31m---------------------------------------------------------------------------\u001b[0m",
            "\u001b[0;31mNameError\u001b[0m                                 Traceback (most recent call last)",
            "\u001b[0;32m<ipython-input-1-998806d369af>\u001b[0m in \u001b[0;36m<module>\u001b[0;34m()\u001b[0m\n\u001b[1;32m      1\u001b[0m \u001b[0;32mfrom\u001b[0m \u001b[0mkeras\u001b[0m\u001b[0;34m.\u001b[0m\u001b[0mutils\u001b[0m\u001b[0;34m.\u001b[0m\u001b[0mvis_utils\u001b[0m \u001b[0;32mimport\u001b[0m \u001b[0mplot_model\u001b[0m\u001b[0;34m\u001b[0m\u001b[0;34m\u001b[0m\u001b[0m\n\u001b[0;32m----> 2\u001b[0;31m \u001b[0mplot_model\u001b[0m\u001b[0;34m(\u001b[0m\u001b[0mbi_lstm\u001b[0m\u001b[0;34m,\u001b[0m \u001b[0mto_file\u001b[0m\u001b[0;34m=\u001b[0m\u001b[0;34m'model_plot.png'\u001b[0m\u001b[0;34m,\u001b[0m \u001b[0mshow_shapes\u001b[0m\u001b[0;34m=\u001b[0m\u001b[0;32mTrue\u001b[0m\u001b[0;34m,\u001b[0m \u001b[0mshow_layer_names\u001b[0m\u001b[0;34m=\u001b[0m\u001b[0;32mTrue\u001b[0m\u001b[0;34m,\u001b[0m\u001b[0mshow_layer_activations\u001b[0m\u001b[0;34m=\u001b[0m \u001b[0;32mTrue\u001b[0m\u001b[0;34m)\u001b[0m\u001b[0;34m\u001b[0m\u001b[0;34m\u001b[0m\u001b[0m\n\u001b[0m",
            "\u001b[0;31mNameError\u001b[0m: name 'bi_lstm' is not defined"
          ]
        }
      ]
    },
    {
      "cell_type": "code",
      "source": [
        "def make_inference_models():\n",
        "  # load biderectional lstm model with the best batch size\n",
        "    bi_lstm, enc_inputs, enc_states, dec_inputs, dec_embedding, dec_lstm, dec_dense = build_bi_lstm()\n",
        "    batch_size = batch_sizes[np.argmax(bi_lstm_acc)]\n",
        "    bi_lstm.load_weights(f'./bi_lstm_16.h5')\n",
        "    # decoder model\n",
        "    dec_state_input_h = Input(shape=(HIDDEN_DIM * 2,))\n",
        "    dec_state_input_c = Input(shape=(HIDDEN_DIM * 2,))\n",
        "    dec_states_inputs = [dec_state_input_h, dec_state_input_c]\n",
        "    dec_outputs, state_h, state_c = dec_lstm(dec_embedding,\n",
        "                                    initial_state=dec_states_inputs)\n",
        "    dec_states = [state_h, state_c]\n",
        "    dec_outputs = dec_dense(dec_outputs)\n",
        "    dec_model = Model(\n",
        "        inputs=[dec_inputs] + dec_states_inputs,\n",
        "        outputs=[dec_outputs] + dec_states)\n",
        "    # encoder model\n",
        "    enc_model = Model(inputs=enc_inputs, outputs=enc_states)\n",
        "    return enc_model, dec_model\n",
        "\n",
        "def str_to_tokens(sentence: str):\n",
        "    # convert input string to lowercase, \n",
        "    # then split it by whitespaces\n",
        "    words = sentence.lower().split()\n",
        "    # and then convert to a sequence \n",
        "    # of integers padded with zeros\n",
        "    tokens_list = list()\n",
        "    for current_word in words:\n",
        "        result = tokenizer.word_index.get(current_word, '')\n",
        "        if result != '':\n",
        "            tokens_list.append(result)\n",
        "    return pad_sequences([tokens_list],\n",
        "                         maxlen=maxlen_questions,\n",
        "                         padding='post')"
      ],
      "metadata": {
        "id": "BWeYcCA8Fz-S"
      },
      "execution_count": null,
      "outputs": []
    },
    {
      "cell_type": "code",
      "source": [
        "# batch_sizes= 16"
      ],
      "metadata": {
        "id": "dlyZwB3wkkWb"
      },
      "execution_count": null,
      "outputs": []
    },
    {
      "cell_type": "code",
      "source": [
        "# create encoder/decoder models\n",
        "encoder_model, decoder_model = make_inference_models()\n",
        "# interact with the chatbot\n",
        "while True:\n",
        "    # encode the input sequence into state vectors\n",
        "    input_text = input('You: ')\n",
        "    if input_text == 'exit':\n",
        "        break\n",
        "    states_values = encoder_model.predict(str_to_tokens(input_text))\n",
        "    # start with a target sequence of size 1 - word 'start'   \n",
        "    empty_target_seq = np.zeros((1, 1))\n",
        "    empty_target_seq[0, 0] = tokenizer.word_index['start']\n",
        "    stop_condition = False\n",
        "    decoded_translation = ''\n",
        "    while not stop_condition:\n",
        "        # feed the state vectors and 1-word target sequence \n",
        "        # to the decoder to produce predictions for the next word\n",
        "        dec_outputs, h, c = decoder_model.predict([empty_target_seq]+states_values)         \n",
        "        # sample the next word using these predictions\n",
        "        sampled_word_index = np.argmax(dec_outputs[0, -1, :])\n",
        "        sampled_word = None\n",
        "        # append the sampled word to the target sequence\n",
        "        for word, index in tokenizer.word_index.items():\n",
        "            if sampled_word_index == index:\n",
        "                if word != 'end':\n",
        "                    decoded_translation += f'{word} '\n",
        "                sampled_word = word\n",
        "        # repeat until we generate the end-of-sequence word 'end' \n",
        "        # or we hit the length of answer limit\n",
        "        if sampled_word == 'end' \\\n",
        "                or len(decoded_translation.split()) \\\n",
        "                > maxlen_answers:\n",
        "            stop_condition = True\n",
        "        # prepare next iteration\n",
        "        empty_target_seq = np.zeros((1, 1))\n",
        "        empty_target_seq[0, 0] = sampled_word_index\n",
        "        states_values = [h, c]\n",
        "    print('Agent: '+decoded_translation)"
      ],
      "metadata": {
        "id": "BnxtJM5bPwPI"
      },
      "execution_count": null,
      "outputs": []
    }
  ]
}